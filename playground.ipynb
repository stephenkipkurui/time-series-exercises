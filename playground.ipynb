{
 "cells": [
  {
   "cell_type": "markdown",
   "metadata": {},
   "source": [
    "# Time Series: Analyzing, Modeling, Forecasting Temporal Events\n",
    "\n",
    "### JSON:\n",
    "- dictionaries == object\n",
    "- lists == arrays \n",
    "\n",
    "\n",
    "### PYTHON:\n",
    "- dictionaries == dictionaries\n",
    "- lists == lists\n",
    "\n",
    "### Definations:\n",
    "- request / response\n",
    "- HTTP: plain text transportation\n",
    "- HTML: document structure (compilation target for markdown)\n",
    "- JSON: data interchange format based on JavaScript\n",
    "- API: How things are interacted with programatically\n",
    "- REST: a prescription for application urls\n",
    "\n",
    "\n",
    "\n",
    "### API Status Codes\n",
    "Status codes are returned with every request that is made to a web server. Status codes indicate information about what happened with a request. Here are some codes that are relevant to GET requests:\n",
    "\n",
    "- 200: Everything went okay, and the result has been returned (if any).\n",
    "- 301: The server is redirecting you to a different endpoint. This can happen when a company switches domain names, or an endpoint name is changed.\n",
    "- 400: The server thinks you made a bad request. This can happen when you don’t send along the right data, among other things.\n",
    "- 401: The server thinks you’re not authenticated. Many APIs require login ccredentials, so this happens when you don’t send the right credentials to access an API.\n",
    "- 403: The resource you’re trying to access is forbidden: you don’t have the right perlessons to see it.\n",
    "- 404: The resource you tried to access wasn’t found on the server.\n",
    "- 503: The server is not ready to handle the request.\n"
   ]
  },
  {
   "cell_type": "raw",
   "metadata": {},
   "source": [
    "strftime Format Specifiers\n",
    "Units\tSpecifier\tDescription\n",
    "seconds\t%S\tSecond of the minute (00..60)\n",
    "minutes\t%M\tMinute of the hour (00..59)\n",
    "hours\t%H\tHour of the day, 24-hour clock (00..23)\n",
    "%I\tHour of the day, 12-hour clock (01..12)\n",
    "days\t%d\tDay of the month\n",
    "%a\tThe abbreviated weekday name (“Sun”)\n",
    "%A\tThe full weekday name (“Sunday”)\n",
    "%j\tDay of the year (001..366)\n",
    "%w\tDay of the week, Sunday is 0 (0..6)\n",
    "weeks\t%U\tWeek of the year, Sunday is the first day of the week (00..53)\n",
    "%W\tWeek of the year, Monday is the first day of the week (00..53)\n",
    "months\t%b\tThe abbreviated month name (“Jan”)\n",
    "%B\tThe full month name (“January”)\n",
    "%d\tDay of the month (01..31)\n",
    "%m\tMonth of the year (01..12)\n",
    "years\t%y\tYear without a century (00..99)\n",
    "%Y\tYear with century (1999)\n",
    "misc\t%z\tTime zone offset (-0500)\n",
    "%Z\tTime zone name (“CDT”)\n",
    "%p\tMeridian indicator (“AM” or “PM”)\n",
    "%c\tThe preferred local date and time representation\n",
    "%x\tPreferred representation for the date alone, no time\n",
    "%X\tPreferred representation for the time alone, no date\n"
   ]
  },
  {
   "cell_type": "code",
   "execution_count": 56,
   "metadata": {},
   "outputs": [],
   "source": [
    "import pandas as pd\n",
    "import requests\n",
    "import numpy as np\n",
    "import seaborn as sns\n",
    "import acquire\n",
    "import matplotlib.pyplot as plt\n",
    "\n",
    "import warnings\n",
    "warnings.filterwarnings('ignore')\n",
    "\n",
    "# set figure size\n",
    "plt.rcParams[\"figure.figsize\"] = (13,6)"
   ]
  },
  {
   "cell_type": "code",
   "execution_count": 57,
   "metadata": {},
   "outputs": [
    {
     "data": {
      "text/plain": [
       "<Response [200]>"
      ]
     },
     "execution_count": 57,
     "metadata": {},
     "output_type": "execute_result"
    }
   ],
   "source": [
    "# https://aphorisms.glitch.me returns a random quotation\n",
    "response = requests.get('http://aphorisms.glitch.me/')\n",
    "response"
   ]
  },
  {
   "cell_type": "markdown",
   "metadata": {},
   "source": [
    "Status Codes:\n",
    "\n",
    "- 200 all good\n",
    "- 300 redirecting\n",
    "- 400 user error\n",
    "- 500 server error"
   ]
  },
  {
   "cell_type": "code",
   "execution_count": 58,
   "metadata": {},
   "outputs": [],
   "source": [
    "from pydataset import data\n",
    "tips = data('tips')\n"
   ]
  },
  {
   "cell_type": "code",
   "execution_count": 59,
   "metadata": {},
   "outputs": [
    {
     "data": {
      "text/html": [
       "<div>\n",
       "<style scoped>\n",
       "    .dataframe tbody tr th:only-of-type {\n",
       "        vertical-align: middle;\n",
       "    }\n",
       "\n",
       "    .dataframe tbody tr th {\n",
       "        vertical-align: top;\n",
       "    }\n",
       "\n",
       "    .dataframe thead th {\n",
       "        text-align: right;\n",
       "    }\n",
       "</style>\n",
       "<table border=\"1\" class=\"dataframe\">\n",
       "  <thead>\n",
       "    <tr style=\"text-align: right;\">\n",
       "      <th></th>\n",
       "      <th>total_bill</th>\n",
       "      <th>tip</th>\n",
       "      <th>sex</th>\n",
       "      <th>smoker</th>\n",
       "      <th>day</th>\n",
       "      <th>time</th>\n",
       "      <th>size</th>\n",
       "    </tr>\n",
       "  </thead>\n",
       "  <tbody>\n",
       "    <tr>\n",
       "      <th>1</th>\n",
       "      <td>16.99</td>\n",
       "      <td>1.01</td>\n",
       "      <td>Female</td>\n",
       "      <td>No</td>\n",
       "      <td>Sun</td>\n",
       "      <td>Dinner</td>\n",
       "      <td>2</td>\n",
       "    </tr>\n",
       "    <tr>\n",
       "      <th>2</th>\n",
       "      <td>10.34</td>\n",
       "      <td>1.66</td>\n",
       "      <td>Male</td>\n",
       "      <td>No</td>\n",
       "      <td>Sun</td>\n",
       "      <td>Dinner</td>\n",
       "      <td>3</td>\n",
       "    </tr>\n",
       "    <tr>\n",
       "      <th>3</th>\n",
       "      <td>21.01</td>\n",
       "      <td>3.50</td>\n",
       "      <td>Male</td>\n",
       "      <td>No</td>\n",
       "      <td>Sun</td>\n",
       "      <td>Dinner</td>\n",
       "      <td>3</td>\n",
       "    </tr>\n",
       "    <tr>\n",
       "      <th>4</th>\n",
       "      <td>23.68</td>\n",
       "      <td>3.31</td>\n",
       "      <td>Male</td>\n",
       "      <td>No</td>\n",
       "      <td>Sun</td>\n",
       "      <td>Dinner</td>\n",
       "      <td>2</td>\n",
       "    </tr>\n",
       "    <tr>\n",
       "      <th>5</th>\n",
       "      <td>24.59</td>\n",
       "      <td>3.61</td>\n",
       "      <td>Female</td>\n",
       "      <td>No</td>\n",
       "      <td>Sun</td>\n",
       "      <td>Dinner</td>\n",
       "      <td>4</td>\n",
       "    </tr>\n",
       "  </tbody>\n",
       "</table>\n",
       "</div>"
      ],
      "text/plain": [
       "   total_bill   tip     sex smoker  day    time  size\n",
       "1       16.99  1.01  Female     No  Sun  Dinner     2\n",
       "2       10.34  1.66    Male     No  Sun  Dinner     3\n",
       "3       21.01  3.50    Male     No  Sun  Dinner     3\n",
       "4       23.68  3.31    Male     No  Sun  Dinner     2\n",
       "5       24.59  3.61  Female     No  Sun  Dinner     4"
      ]
     },
     "execution_count": 59,
     "metadata": {},
     "output_type": "execute_result"
    }
   ],
   "source": [
    "tips.head()"
   ]
  },
  {
   "cell_type": "code",
   "execution_count": 60,
   "metadata": {},
   "outputs": [],
   "source": [
    "# Convert to JSON\n",
    "tips_json = tips.to_json()"
   ]
  },
  {
   "cell_type": "code",
   "execution_count": 61,
   "metadata": {},
   "outputs": [],
   "source": [
    "url = 'https://api.data.codeup.com/api/v1/items'\n",
    "response = requests.get(url)\n",
    "data = response.json()\n"
   ]
  },
  {
   "cell_type": "code",
   "execution_count": 62,
   "metadata": {},
   "outputs": [
    {
     "name": "stdout",
     "output_type": "stream",
     "text": [
      "<class 'dict'>\n"
     ]
    }
   ],
   "source": [
    "print(type(data))"
   ]
  },
  {
   "cell_type": "code",
   "execution_count": 63,
   "metadata": {},
   "outputs": [
    {
     "data": {
      "text/plain": [
       "dict_keys(['payload', 'status'])"
      ]
     },
     "execution_count": 63,
     "metadata": {},
     "output_type": "execute_result"
    }
   ],
   "source": [
    "data.keys()"
   ]
  },
  {
   "cell_type": "code",
   "execution_count": 64,
   "metadata": {},
   "outputs": [
    {
     "data": {
      "text/plain": [
       "dict_keys(['payload', 'status'])"
      ]
     },
     "execution_count": 64,
     "metadata": {},
     "output_type": "execute_result"
    }
   ],
   "source": [
    "data.keys()"
   ]
  },
  {
   "cell_type": "code",
   "execution_count": 65,
   "metadata": {
    "scrolled": true
   },
   "outputs": [
    {
     "data": {
      "text/html": [
       "<div>\n",
       "<style scoped>\n",
       "    .dataframe tbody tr th:only-of-type {\n",
       "        vertical-align: middle;\n",
       "    }\n",
       "\n",
       "    .dataframe tbody tr th {\n",
       "        vertical-align: top;\n",
       "    }\n",
       "\n",
       "    .dataframe thead th {\n",
       "        text-align: right;\n",
       "    }\n",
       "</style>\n",
       "<table border=\"1\" class=\"dataframe\">\n",
       "  <thead>\n",
       "    <tr style=\"text-align: right;\">\n",
       "      <th></th>\n",
       "      <th>items</th>\n",
       "      <th>max_page</th>\n",
       "      <th>next_page</th>\n",
       "      <th>page</th>\n",
       "      <th>previous_page</th>\n",
       "    </tr>\n",
       "  </thead>\n",
       "  <tbody>\n",
       "    <tr>\n",
       "      <th>0</th>\n",
       "      <td>{'item_brand': 'Riceland', 'item_id': 1, 'item_name': 'Riceland American Jazmine Rice'...</td>\n",
       "      <td>3</td>\n",
       "      <td>/api/v1/items?page=2</td>\n",
       "      <td>1</td>\n",
       "      <td>None</td>\n",
       "    </tr>\n",
       "    <tr>\n",
       "      <th>1</th>\n",
       "      <td>{'item_brand': 'Caress', 'item_id': 2, 'item_name': 'Caress Velvet Bliss Ultra Silkeni...</td>\n",
       "      <td>3</td>\n",
       "      <td>/api/v1/items?page=2</td>\n",
       "      <td>1</td>\n",
       "      <td>None</td>\n",
       "    </tr>\n",
       "    <tr>\n",
       "      <th>2</th>\n",
       "      <td>{'item_brand': 'Earths Best', 'item_id': 3, 'item_name': 'Earths Best Organic Fruit Yo...</td>\n",
       "      <td>3</td>\n",
       "      <td>/api/v1/items?page=2</td>\n",
       "      <td>1</td>\n",
       "      <td>None</td>\n",
       "    </tr>\n",
       "    <tr>\n",
       "      <th>3</th>\n",
       "      <td>{'item_brand': 'Boars Head', 'item_id': 4, 'item_name': 'Boars Head Sliced White Ameri...</td>\n",
       "      <td>3</td>\n",
       "      <td>/api/v1/items?page=2</td>\n",
       "      <td>1</td>\n",
       "      <td>None</td>\n",
       "    </tr>\n",
       "    <tr>\n",
       "      <th>4</th>\n",
       "      <td>{'item_brand': 'Back To Nature', 'item_id': 5, 'item_name': 'Back To Nature Gluten Fre...</td>\n",
       "      <td>3</td>\n",
       "      <td>/api/v1/items?page=2</td>\n",
       "      <td>1</td>\n",
       "      <td>None</td>\n",
       "    </tr>\n",
       "    <tr>\n",
       "      <th>5</th>\n",
       "      <td>{'item_brand': 'Sally Hansen', 'item_id': 6, 'item_name': 'Sally Hansen Nail Color Mag...</td>\n",
       "      <td>3</td>\n",
       "      <td>/api/v1/items?page=2</td>\n",
       "      <td>1</td>\n",
       "      <td>None</td>\n",
       "    </tr>\n",
       "    <tr>\n",
       "      <th>6</th>\n",
       "      <td>{'item_brand': 'Twinings Of London', 'item_id': 7, 'item_name': 'Twinings Of London Cl...</td>\n",
       "      <td>3</td>\n",
       "      <td>/api/v1/items?page=2</td>\n",
       "      <td>1</td>\n",
       "      <td>None</td>\n",
       "    </tr>\n",
       "    <tr>\n",
       "      <th>7</th>\n",
       "      <td>{'item_brand': 'Lea &amp; Perrins', 'item_id': 8, 'item_name': 'Lea &amp; Perrins Marinade In-...</td>\n",
       "      <td>3</td>\n",
       "      <td>/api/v1/items?page=2</td>\n",
       "      <td>1</td>\n",
       "      <td>None</td>\n",
       "    </tr>\n",
       "    <tr>\n",
       "      <th>8</th>\n",
       "      <td>{'item_brand': 'Van De Kamps', 'item_id': 9, 'item_name': 'Van De Kamps Fillets Beer B...</td>\n",
       "      <td>3</td>\n",
       "      <td>/api/v1/items?page=2</td>\n",
       "      <td>1</td>\n",
       "      <td>None</td>\n",
       "    </tr>\n",
       "    <tr>\n",
       "      <th>9</th>\n",
       "      <td>{'item_brand': 'Ahold', 'item_id': 10, 'item_name': 'Ahold Cocoa Almonds', 'item_price...</td>\n",
       "      <td>3</td>\n",
       "      <td>/api/v1/items?page=2</td>\n",
       "      <td>1</td>\n",
       "      <td>None</td>\n",
       "    </tr>\n",
       "    <tr>\n",
       "      <th>10</th>\n",
       "      <td>{'item_brand': 'Honest Tea', 'item_id': 11, 'item_name': 'Honest Tea Peach White Tea',...</td>\n",
       "      <td>3</td>\n",
       "      <td>/api/v1/items?page=2</td>\n",
       "      <td>1</td>\n",
       "      <td>None</td>\n",
       "    </tr>\n",
       "    <tr>\n",
       "      <th>11</th>\n",
       "      <td>{'item_brand': 'Mueller', 'item_id': 12, 'item_name': 'Mueller Sport Care Basic Suppor...</td>\n",
       "      <td>3</td>\n",
       "      <td>/api/v1/items?page=2</td>\n",
       "      <td>1</td>\n",
       "      <td>None</td>\n",
       "    </tr>\n",
       "    <tr>\n",
       "      <th>12</th>\n",
       "      <td>{'item_brand': 'Garnier Nutritioniste', 'item_id': 13, 'item_name': 'Garnier Nutrition...</td>\n",
       "      <td>3</td>\n",
       "      <td>/api/v1/items?page=2</td>\n",
       "      <td>1</td>\n",
       "      <td>None</td>\n",
       "    </tr>\n",
       "    <tr>\n",
       "      <th>13</th>\n",
       "      <td>{'item_brand': 'Pamprin', 'item_id': 14, 'item_name': 'Pamprin Maximum Strength Multi-...</td>\n",
       "      <td>3</td>\n",
       "      <td>/api/v1/items?page=2</td>\n",
       "      <td>1</td>\n",
       "      <td>None</td>\n",
       "    </tr>\n",
       "    <tr>\n",
       "      <th>14</th>\n",
       "      <td>{'item_brand': 'Suave', 'item_id': 15, 'item_name': 'Suave Naturals Moisturizing Body ...</td>\n",
       "      <td>3</td>\n",
       "      <td>/api/v1/items?page=2</td>\n",
       "      <td>1</td>\n",
       "      <td>None</td>\n",
       "    </tr>\n",
       "    <tr>\n",
       "      <th>15</th>\n",
       "      <td>{'item_brand': 'Burts Bees', 'item_id': 16, 'item_name': 'Burts Bees Daily Moisturizin...</td>\n",
       "      <td>3</td>\n",
       "      <td>/api/v1/items?page=2</td>\n",
       "      <td>1</td>\n",
       "      <td>None</td>\n",
       "    </tr>\n",
       "    <tr>\n",
       "      <th>16</th>\n",
       "      <td>{'item_brand': 'Ducal', 'item_id': 17, 'item_name': 'Ducal Refried Red Beans', 'item_p...</td>\n",
       "      <td>3</td>\n",
       "      <td>/api/v1/items?page=2</td>\n",
       "      <td>1</td>\n",
       "      <td>None</td>\n",
       "    </tr>\n",
       "    <tr>\n",
       "      <th>17</th>\n",
       "      <td>{'item_brand': 'Scotch', 'item_id': 18, 'item_name': 'Scotch Removable Clear Mounting ...</td>\n",
       "      <td>3</td>\n",
       "      <td>/api/v1/items?page=2</td>\n",
       "      <td>1</td>\n",
       "      <td>None</td>\n",
       "    </tr>\n",
       "    <tr>\n",
       "      <th>18</th>\n",
       "      <td>{'item_brand': 'Careone', 'item_id': 19, 'item_name': 'Careone Family Comb Set - 8 Ct'...</td>\n",
       "      <td>3</td>\n",
       "      <td>/api/v1/items?page=2</td>\n",
       "      <td>1</td>\n",
       "      <td>None</td>\n",
       "    </tr>\n",
       "    <tr>\n",
       "      <th>19</th>\n",
       "      <td>{'item_brand': 'Usda Produce', 'item_id': 20, 'item_name': 'Plums Black', 'item_price'...</td>\n",
       "      <td>3</td>\n",
       "      <td>/api/v1/items?page=2</td>\n",
       "      <td>1</td>\n",
       "      <td>None</td>\n",
       "    </tr>\n",
       "  </tbody>\n",
       "</table>\n",
       "</div>"
      ],
      "text/plain": [
       "                                                                                        items  \\\n",
       "0   {'item_brand': 'Riceland', 'item_id': 1, 'item_name': 'Riceland American Jazmine Rice'...   \n",
       "1   {'item_brand': 'Caress', 'item_id': 2, 'item_name': 'Caress Velvet Bliss Ultra Silkeni...   \n",
       "2   {'item_brand': 'Earths Best', 'item_id': 3, 'item_name': 'Earths Best Organic Fruit Yo...   \n",
       "3   {'item_brand': 'Boars Head', 'item_id': 4, 'item_name': 'Boars Head Sliced White Ameri...   \n",
       "4   {'item_brand': 'Back To Nature', 'item_id': 5, 'item_name': 'Back To Nature Gluten Fre...   \n",
       "5   {'item_brand': 'Sally Hansen', 'item_id': 6, 'item_name': 'Sally Hansen Nail Color Mag...   \n",
       "6   {'item_brand': 'Twinings Of London', 'item_id': 7, 'item_name': 'Twinings Of London Cl...   \n",
       "7   {'item_brand': 'Lea & Perrins', 'item_id': 8, 'item_name': 'Lea & Perrins Marinade In-...   \n",
       "8   {'item_brand': 'Van De Kamps', 'item_id': 9, 'item_name': 'Van De Kamps Fillets Beer B...   \n",
       "9   {'item_brand': 'Ahold', 'item_id': 10, 'item_name': 'Ahold Cocoa Almonds', 'item_price...   \n",
       "10  {'item_brand': 'Honest Tea', 'item_id': 11, 'item_name': 'Honest Tea Peach White Tea',...   \n",
       "11  {'item_brand': 'Mueller', 'item_id': 12, 'item_name': 'Mueller Sport Care Basic Suppor...   \n",
       "12  {'item_brand': 'Garnier Nutritioniste', 'item_id': 13, 'item_name': 'Garnier Nutrition...   \n",
       "13  {'item_brand': 'Pamprin', 'item_id': 14, 'item_name': 'Pamprin Maximum Strength Multi-...   \n",
       "14  {'item_brand': 'Suave', 'item_id': 15, 'item_name': 'Suave Naturals Moisturizing Body ...   \n",
       "15  {'item_brand': 'Burts Bees', 'item_id': 16, 'item_name': 'Burts Bees Daily Moisturizin...   \n",
       "16  {'item_brand': 'Ducal', 'item_id': 17, 'item_name': 'Ducal Refried Red Beans', 'item_p...   \n",
       "17  {'item_brand': 'Scotch', 'item_id': 18, 'item_name': 'Scotch Removable Clear Mounting ...   \n",
       "18  {'item_brand': 'Careone', 'item_id': 19, 'item_name': 'Careone Family Comb Set - 8 Ct'...   \n",
       "19  {'item_brand': 'Usda Produce', 'item_id': 20, 'item_name': 'Plums Black', 'item_price'...   \n",
       "\n",
       "    max_page             next_page  page previous_page  \n",
       "0          3  /api/v1/items?page=2     1          None  \n",
       "1          3  /api/v1/items?page=2     1          None  \n",
       "2          3  /api/v1/items?page=2     1          None  \n",
       "3          3  /api/v1/items?page=2     1          None  \n",
       "4          3  /api/v1/items?page=2     1          None  \n",
       "5          3  /api/v1/items?page=2     1          None  \n",
       "6          3  /api/v1/items?page=2     1          None  \n",
       "7          3  /api/v1/items?page=2     1          None  \n",
       "8          3  /api/v1/items?page=2     1          None  \n",
       "9          3  /api/v1/items?page=2     1          None  \n",
       "10         3  /api/v1/items?page=2     1          None  \n",
       "11         3  /api/v1/items?page=2     1          None  \n",
       "12         3  /api/v1/items?page=2     1          None  \n",
       "13         3  /api/v1/items?page=2     1          None  \n",
       "14         3  /api/v1/items?page=2     1          None  \n",
       "15         3  /api/v1/items?page=2     1          None  \n",
       "16         3  /api/v1/items?page=2     1          None  \n",
       "17         3  /api/v1/items?page=2     1          None  \n",
       "18         3  /api/v1/items?page=2     1          None  \n",
       "19         3  /api/v1/items?page=2     1          None  "
      ]
     },
     "execution_count": 65,
     "metadata": {},
     "output_type": "execute_result"
    }
   ],
   "source": [
    "pd.DataFrame(data['payload'])"
   ]
  },
  {
   "cell_type": "code",
   "execution_count": 66,
   "metadata": {},
   "outputs": [
    {
     "data": {
      "text/plain": [
       "([{'item_brand': 'Riceland',\n",
       "   'item_id': 1,\n",
       "   'item_name': 'Riceland American Jazmine Rice',\n",
       "   'item_price': 0.84,\n",
       "   'item_upc12': '35200264013',\n",
       "   'item_upc14': '35200264013'},\n",
       "  {'item_brand': 'Caress',\n",
       "   'item_id': 2,\n",
       "   'item_name': 'Caress Velvet Bliss Ultra Silkening Beauty Bar - 6 Ct',\n",
       "   'item_price': 6.44,\n",
       "   'item_upc12': '11111065925',\n",
       "   'item_upc14': '11111065925'},\n",
       "  {'item_brand': 'Earths Best',\n",
       "   'item_id': 3,\n",
       "   'item_name': 'Earths Best Organic Fruit Yogurt Smoothie Mixed Berry',\n",
       "   'item_price': 2.43,\n",
       "   'item_upc12': '23923330139',\n",
       "   'item_upc14': '23923330139'},\n",
       "  {'item_brand': 'Boars Head',\n",
       "   'item_id': 4,\n",
       "   'item_name': 'Boars Head Sliced White American Cheese - 120 Ct',\n",
       "   'item_price': 3.14,\n",
       "   'item_upc12': '208528800007',\n",
       "   'item_upc14': '208528800007'},\n",
       "  {'item_brand': 'Back To Nature',\n",
       "   'item_id': 5,\n",
       "   'item_name': 'Back To Nature Gluten Free White Cheddar Rice Thin Crackers',\n",
       "   'item_price': 2.61,\n",
       "   'item_upc12': '759283100036',\n",
       "   'item_upc14': '759283100036'},\n",
       "  {'item_brand': 'Sally Hansen',\n",
       "   'item_id': 6,\n",
       "   'item_name': 'Sally Hansen Nail Color Magnetic 903 Silver Elements',\n",
       "   'item_price': 6.93,\n",
       "   'item_upc12': '74170388732',\n",
       "   'item_upc14': '74170388732'},\n",
       "  {'item_brand': 'Twinings Of London',\n",
       "   'item_id': 7,\n",
       "   'item_name': 'Twinings Of London Classics Lady Grey Tea - 20 Ct',\n",
       "   'item_price': 9.64,\n",
       "   'item_upc12': '70177154004',\n",
       "   'item_upc14': '70177154004'},\n",
       "  {'item_brand': 'Lea & Perrins',\n",
       "   'item_id': 8,\n",
       "   'item_name': 'Lea & Perrins Marinade In-a-bag Cracked Peppercorn',\n",
       "   'item_price': 1.68,\n",
       "   'item_upc12': '51600080015',\n",
       "   'item_upc14': '51600080015'},\n",
       "  {'item_brand': 'Van De Kamps',\n",
       "   'item_id': 9,\n",
       "   'item_name': 'Van De Kamps Fillets Beer Battered - 10 Ct',\n",
       "   'item_price': 1.79,\n",
       "   'item_upc12': '19600923015',\n",
       "   'item_upc14': '19600923015'},\n",
       "  {'item_brand': 'Ahold',\n",
       "   'item_id': 10,\n",
       "   'item_name': 'Ahold Cocoa Almonds',\n",
       "   'item_price': 3.17,\n",
       "   'item_upc12': '688267141676',\n",
       "   'item_upc14': '688267141676'},\n",
       "  {'item_brand': 'Honest Tea',\n",
       "   'item_id': 11,\n",
       "   'item_name': 'Honest Tea Peach White Tea',\n",
       "   'item_price': 3.93,\n",
       "   'item_upc12': '657622604842',\n",
       "   'item_upc14': '657622604842'},\n",
       "  {'item_brand': 'Mueller',\n",
       "   'item_id': 12,\n",
       "   'item_name': 'Mueller Sport Care Basic Support Level Medium Elastic Knee Support',\n",
       "   'item_price': 8.4,\n",
       "   'item_upc12': '74676640211',\n",
       "   'item_upc14': '74676640211'},\n",
       "  {'item_brand': 'Garnier Nutritioniste',\n",
       "   'item_id': 13,\n",
       "   'item_name': 'Garnier Nutritioniste Moisture Rescue Fresh Cleansing Foam',\n",
       "   'item_price': 6.47,\n",
       "   'item_upc12': '603084234561',\n",
       "   'item_upc14': '603084234561'},\n",
       "  {'item_brand': 'Pamprin',\n",
       "   'item_id': 14,\n",
       "   'item_name': 'Pamprin Maximum Strength Multi-symptom Menstrual Pain Relief',\n",
       "   'item_price': 7.54,\n",
       "   'item_upc12': '41167300121',\n",
       "   'item_upc14': '41167300121'},\n",
       "  {'item_brand': 'Suave',\n",
       "   'item_id': 15,\n",
       "   'item_name': 'Suave Naturals Moisturizing Body Wash Creamy Tropical Coconut',\n",
       "   'item_price': 9.11,\n",
       "   'item_upc12': '79400847201',\n",
       "   'item_upc14': '79400847201'},\n",
       "  {'item_brand': 'Burts Bees',\n",
       "   'item_id': 16,\n",
       "   'item_name': 'Burts Bees Daily Moisturizing Cream Sensitive',\n",
       "   'item_price': 5.17,\n",
       "   'item_upc12': '792850014008',\n",
       "   'item_upc14': '792850014008'},\n",
       "  {'item_brand': 'Ducal',\n",
       "   'item_id': 17,\n",
       "   'item_name': 'Ducal Refried Red Beans',\n",
       "   'item_price': 1.16,\n",
       "   'item_upc12': '88313590791',\n",
       "   'item_upc14': '88313590791'},\n",
       "  {'item_brand': 'Scotch',\n",
       "   'item_id': 18,\n",
       "   'item_name': 'Scotch Removable Clear Mounting Squares - 35 Ct',\n",
       "   'item_price': 4.39,\n",
       "   'item_upc12': '21200725340',\n",
       "   'item_upc14': '21200725340'},\n",
       "  {'item_brand': 'Careone',\n",
       "   'item_id': 19,\n",
       "   'item_name': 'Careone Family Comb Set - 8 Ct',\n",
       "   'item_price': 0.74,\n",
       "   'item_upc12': '41520035646',\n",
       "   'item_upc14': '41520035646'},\n",
       "  {'item_brand': 'Usda Produce',\n",
       "   'item_id': 20,\n",
       "   'item_name': 'Plums Black',\n",
       "   'item_price': 5.62,\n",
       "   'item_upc12': '204040000000',\n",
       "   'item_upc14': '204040000000'}],\n",
       " 1)"
      ]
     },
     "execution_count": 66,
     "metadata": {},
     "output_type": "execute_result"
    }
   ],
   "source": [
    "data['payload']['items'], data['payload']['page']"
   ]
  },
  {
   "cell_type": "code",
   "execution_count": 67,
   "metadata": {
    "scrolled": true
   },
   "outputs": [],
   "source": [
    "items = pd.DataFrame(data['payload']['items'])"
   ]
  },
  {
   "cell_type": "code",
   "execution_count": 68,
   "metadata": {},
   "outputs": [
    {
     "data": {
      "text/plain": [
       "(20, 6)"
      ]
     },
     "execution_count": 68,
     "metadata": {},
     "output_type": "execute_result"
    }
   ],
   "source": [
    "items.shape"
   ]
  },
  {
   "cell_type": "markdown",
   "metadata": {},
   "source": [
    "### Working with Time Series in Pandas"
   ]
  },
  {
   "cell_type": "code",
   "execution_count": 69,
   "metadata": {},
   "outputs": [
    {
     "data": {
      "text/plain": [
       "Timestamp('1970-01-01 00:00:00')"
      ]
     },
     "execution_count": 69,
     "metadata": {},
     "output_type": "execute_result"
    }
   ],
   "source": [
    "import pandas as pd\n",
    "\n",
    "pd.to_datetime('Jan 1 1970')"
   ]
  },
  {
   "cell_type": "code",
   "execution_count": 70,
   "metadata": {},
   "outputs": [
    {
     "name": "stdout",
     "output_type": "stream",
     "text": [
      "ValueError Unknown string format: Jan:1:1970\n"
     ]
    }
   ],
   "source": [
    "# Python cannot figure out the time format\n",
    "try:\n",
    "    pd.to_datetime('Jan:1:1970')\n",
    "    \n",
    "except ValueError as e:\n",
    "    \n",
    "    print('ValueError', e)\n"
   ]
  },
  {
   "cell_type": "code",
   "execution_count": 71,
   "metadata": {},
   "outputs": [
    {
     "name": "stdout",
     "output_type": "stream",
     "text": [
      "date                   object\n",
      "coffee_consumption    float64\n",
      "dtype: object\n"
     ]
    },
    {
     "data": {
      "text/html": [
       "<div>\n",
       "<style scoped>\n",
       "    .dataframe tbody tr th:only-of-type {\n",
       "        vertical-align: middle;\n",
       "    }\n",
       "\n",
       "    .dataframe tbody tr th {\n",
       "        vertical-align: top;\n",
       "    }\n",
       "\n",
       "    .dataframe thead th {\n",
       "        text-align: right;\n",
       "    }\n",
       "</style>\n",
       "<table border=\"1\" class=\"dataframe\">\n",
       "  <thead>\n",
       "    <tr style=\"text-align: right;\">\n",
       "      <th></th>\n",
       "      <th>date</th>\n",
       "      <th>coffee_consumption</th>\n",
       "    </tr>\n",
       "  </thead>\n",
       "  <tbody>\n",
       "    <tr>\n",
       "      <th>0</th>\n",
       "      <td>2019-01-01</td>\n",
       "      <td>14.301915</td>\n",
       "    </tr>\n",
       "    <tr>\n",
       "      <th>1</th>\n",
       "      <td>2019-01-02</td>\n",
       "      <td>12.905900</td>\n",
       "    </tr>\n",
       "    <tr>\n",
       "      <th>2</th>\n",
       "      <td>2019-01-03</td>\n",
       "      <td>10.046015</td>\n",
       "    </tr>\n",
       "    <tr>\n",
       "      <th>3</th>\n",
       "      <td>2019-01-04</td>\n",
       "      <td>6.354805</td>\n",
       "    </tr>\n",
       "    <tr>\n",
       "      <th>4</th>\n",
       "      <td>2019-01-07</td>\n",
       "      <td>8.545563</td>\n",
       "    </tr>\n",
       "  </tbody>\n",
       "</table>\n",
       "</div>"
      ],
      "text/plain": [
       "         date  coffee_consumption\n",
       "0  2019-01-01           14.301915\n",
       "1  2019-01-02           12.905900\n",
       "2  2019-01-03           10.046015\n",
       "3  2019-01-04            6.354805\n",
       "4  2019-01-07            8.545563"
      ]
     },
     "execution_count": 71,
     "metadata": {},
     "output_type": "execute_result"
    }
   ],
   "source": [
    "url = \"https://gist.githubusercontent.com/ryanorsinger/b309f8db19e0ca71b213d4877d835e77/raw/f5841017310e2f4ca070b313529ceec2375336ba/coffee_consumption.csv\"\n",
    "df = pd.read_csv(url)\n",
    "print(df.dtypes)\n",
    "df.head()\n"
   ]
  },
  {
   "cell_type": "code",
   "execution_count": 72,
   "metadata": {},
   "outputs": [
    {
     "data": {
      "text/plain": [
       "date                  datetime64[ns]\n",
       "coffee_consumption           float64\n",
       "dtype: object"
      ]
     },
     "execution_count": 72,
     "metadata": {},
     "output_type": "execute_result"
    }
   ],
   "source": [
    "# convert our date column to datetime type\n",
    "\n",
    "df.date = pd.to_datetime(df.date)\n",
    "df.dtypes"
   ]
  },
  {
   "cell_type": "markdown",
   "metadata": {},
   "source": [
    "#### The .dt accessor can be used to access various properties of a date. Some of the more common ones are listed here, and you can reference the pandas documentation for a full list."
   ]
  },
  {
   "cell_type": "code",
   "execution_count": 73,
   "metadata": {},
   "outputs": [
    {
     "data": {
      "text/html": [
       "<div>\n",
       "<style scoped>\n",
       "    .dataframe tbody tr th:only-of-type {\n",
       "        vertical-align: middle;\n",
       "    }\n",
       "\n",
       "    .dataframe tbody tr th {\n",
       "        vertical-align: top;\n",
       "    }\n",
       "\n",
       "    .dataframe thead th {\n",
       "        text-align: right;\n",
       "    }\n",
       "</style>\n",
       "<table border=\"1\" class=\"dataframe\">\n",
       "  <thead>\n",
       "    <tr style=\"text-align: right;\">\n",
       "      <th></th>\n",
       "      <th>date</th>\n",
       "      <th>coffee_consumption</th>\n",
       "      <th>year</th>\n",
       "      <th>month</th>\n",
       "      <th>day</th>\n",
       "      <th>weekday</th>\n",
       "    </tr>\n",
       "  </thead>\n",
       "  <tbody>\n",
       "    <tr>\n",
       "      <th>0</th>\n",
       "      <td>2019-01-01</td>\n",
       "      <td>14.301915</td>\n",
       "      <td>2019</td>\n",
       "      <td>1</td>\n",
       "      <td>1</td>\n",
       "      <td>Tuesday</td>\n",
       "    </tr>\n",
       "    <tr>\n",
       "      <th>1</th>\n",
       "      <td>2019-01-02</td>\n",
       "      <td>12.905900</td>\n",
       "      <td>2019</td>\n",
       "      <td>1</td>\n",
       "      <td>1</td>\n",
       "      <td>Wednesday</td>\n",
       "    </tr>\n",
       "    <tr>\n",
       "      <th>2</th>\n",
       "      <td>2019-01-03</td>\n",
       "      <td>10.046015</td>\n",
       "      <td>2019</td>\n",
       "      <td>1</td>\n",
       "      <td>1</td>\n",
       "      <td>Thursday</td>\n",
       "    </tr>\n",
       "    <tr>\n",
       "      <th>3</th>\n",
       "      <td>2019-01-04</td>\n",
       "      <td>6.354805</td>\n",
       "      <td>2019</td>\n",
       "      <td>1</td>\n",
       "      <td>1</td>\n",
       "      <td>Friday</td>\n",
       "    </tr>\n",
       "    <tr>\n",
       "      <th>4</th>\n",
       "      <td>2019-01-07</td>\n",
       "      <td>8.545563</td>\n",
       "      <td>2019</td>\n",
       "      <td>1</td>\n",
       "      <td>1</td>\n",
       "      <td>Monday</td>\n",
       "    </tr>\n",
       "  </tbody>\n",
       "</table>\n",
       "</div>"
      ],
      "text/plain": [
       "        date  coffee_consumption  year  month  day    weekday\n",
       "0 2019-01-01           14.301915  2019      1    1    Tuesday\n",
       "1 2019-01-02           12.905900  2019      1    1  Wednesday\n",
       "2 2019-01-03           10.046015  2019      1    1   Thursday\n",
       "3 2019-01-04            6.354805  2019      1    1     Friday\n",
       "4 2019-01-07            8.545563  2019      1    1     Monday"
      ]
     },
     "execution_count": 73,
     "metadata": {},
     "output_type": "execute_result"
    }
   ],
   "source": [
    "df['year'] = df.date.dt.year\n",
    "df['month'] = df.date.dt.month\n",
    "df['day'] = df.date.dt.month\n",
    "df['weekday'] = df.date.dt.day_name()\n",
    "df.head()"
   ]
  },
  {
   "cell_type": "code",
   "execution_count": 74,
   "metadata": {},
   "outputs": [],
   "source": [
    "date = np.array"
   ]
  },
  {
   "cell_type": "code",
   "execution_count": 75,
   "metadata": {},
   "outputs": [
    {
     "data": {
      "text/plain": [
       "array([0. , 0.1, 0.2, 0.3, 0.4, 0.5, 0.6, 0.7, 0.8])"
      ]
     },
     "execution_count": 75,
     "metadata": {},
     "output_type": "execute_result"
    }
   ],
   "source": [
    "np.arange(0, 0.9, 0.1)"
   ]
  },
  {
   "cell_type": "code",
   "execution_count": 76,
   "metadata": {},
   "outputs": [
    {
     "data": {
      "text/plain": [
       "Timestamp('2022-12-03 05:00:00')"
      ]
     },
     "execution_count": 76,
     "metadata": {},
     "output_type": "execute_result"
    }
   ],
   "source": [
    "t = pd.Timestamp('2022-12-03, 05')\n",
    "t"
   ]
  },
  {
   "cell_type": "code",
   "execution_count": 77,
   "metadata": {},
   "outputs": [
    {
     "data": {
      "text/plain": [
       "<AxesSubplot:xlabel='weekday', ylabel='coffee_consumption'>"
      ]
     },
     "execution_count": 77,
     "metadata": {},
     "output_type": "execute_result"
    },
    {
     "data": {
      "image/png": "[encoded data removed]",
      "text/plain": [
       "<Figure size 936x432 with 1 Axes>"
      ]
     },
     "metadata": {
      "needs_background": "light"
     },
     "output_type": "display_data"
    }
   ],
   "source": [
    "sns.scatterplot(data = df, x = 'weekday', y= 'coffee_consumption')"
   ]
  },
  {
   "cell_type": "code",
   "execution_count": 78,
   "metadata": {},
   "outputs": [
    {
     "data": {
      "text/html": [
       "<div>\n",
       "<style scoped>\n",
       "    .dataframe tbody tr th:only-of-type {\n",
       "        vertical-align: middle;\n",
       "    }\n",
       "\n",
       "    .dataframe tbody tr th {\n",
       "        vertical-align: top;\n",
       "    }\n",
       "\n",
       "    .dataframe thead th {\n",
       "        text-align: right;\n",
       "    }\n",
       "</style>\n",
       "<table border=\"1\" class=\"dataframe\">\n",
       "  <thead>\n",
       "    <tr style=\"text-align: right;\">\n",
       "      <th></th>\n",
       "      <th>Date</th>\n",
       "      <th>Symbol</th>\n",
       "      <th>Close</th>\n",
       "      <th>Volume</th>\n",
       "    </tr>\n",
       "  </thead>\n",
       "  <tbody>\n",
       "    <tr>\n",
       "      <th>0</th>\n",
       "      <td>2020-03-13 12-PM</td>\n",
       "      <td>ETHUSD</td>\n",
       "      <td>128.71</td>\n",
       "      <td>3906590.52</td>\n",
       "    </tr>\n",
       "    <tr>\n",
       "      <th>1</th>\n",
       "      <td>2020-03-13 12-AM</td>\n",
       "      <td>ETHUSD</td>\n",
       "      <td>129.94</td>\n",
       "      <td>10329663.70</td>\n",
       "    </tr>\n",
       "    <tr>\n",
       "      <th>2</th>\n",
       "      <td>2020-03-13 11-AM</td>\n",
       "      <td>ETHUSD</td>\n",
       "      <td>119.51</td>\n",
       "      <td>3311080.29</td>\n",
       "    </tr>\n",
       "    <tr>\n",
       "      <th>3</th>\n",
       "      <td>2020-03-13 10-AM</td>\n",
       "      <td>ETHUSD</td>\n",
       "      <td>124.47</td>\n",
       "      <td>3483436.48</td>\n",
       "    </tr>\n",
       "    <tr>\n",
       "      <th>4</th>\n",
       "      <td>2020-03-13 09-AM</td>\n",
       "      <td>ETHUSD</td>\n",
       "      <td>124.08</td>\n",
       "      <td>2767584.44</td>\n",
       "    </tr>\n",
       "    <tr>\n",
       "      <th>...</th>\n",
       "      <td>...</td>\n",
       "      <td>...</td>\n",
       "      <td>...</td>\n",
       "      <td>...</td>\n",
       "    </tr>\n",
       "    <tr>\n",
       "      <th>23669</th>\n",
       "      <td>2017-07-01 05-PM</td>\n",
       "      <td>ETHUSD</td>\n",
       "      <td>272.57</td>\n",
       "      <td>1894983.33</td>\n",
       "    </tr>\n",
       "    <tr>\n",
       "      <th>23670</th>\n",
       "      <td>2017-07-01 04-PM</td>\n",
       "      <td>ETHUSD</td>\n",
       "      <td>265.74</td>\n",
       "      <td>1287300.75</td>\n",
       "    </tr>\n",
       "    <tr>\n",
       "      <th>23671</th>\n",
       "      <td>2017-07-01 03-PM</td>\n",
       "      <td>ETHUSD</td>\n",
       "      <td>268.79</td>\n",
       "      <td>1500282.55</td>\n",
       "    </tr>\n",
       "    <tr>\n",
       "      <th>23672</th>\n",
       "      <td>2017-07-01 02-PM</td>\n",
       "      <td>ETHUSD</td>\n",
       "      <td>274.83</td>\n",
       "      <td>1702536.85</td>\n",
       "    </tr>\n",
       "    <tr>\n",
       "      <th>23673</th>\n",
       "      <td>2017-07-01 01-PM</td>\n",
       "      <td>ETHUSD</td>\n",
       "      <td>275.01</td>\n",
       "      <td>3010787.99</td>\n",
       "    </tr>\n",
       "  </tbody>\n",
       "</table>\n",
       "<p>23674 rows × 4 columns</p>\n",
       "</div>"
      ],
      "text/plain": [
       "                   Date  Symbol   Close       Volume\n",
       "0      2020-03-13 12-PM  ETHUSD  128.71   3906590.52\n",
       "1      2020-03-13 12-AM  ETHUSD  129.94  10329663.70\n",
       "2      2020-03-13 11-AM  ETHUSD  119.51   3311080.29\n",
       "3      2020-03-13 10-AM  ETHUSD  124.47   3483436.48\n",
       "4      2020-03-13 09-AM  ETHUSD  124.08   2767584.44\n",
       "...                 ...     ...     ...          ...\n",
       "23669  2017-07-01 05-PM  ETHUSD  272.57   1894983.33\n",
       "23670  2017-07-01 04-PM  ETHUSD  265.74   1287300.75\n",
       "23671  2017-07-01 03-PM  ETHUSD  268.79   1500282.55\n",
       "23672  2017-07-01 02-PM  ETHUSD  274.83   1702536.85\n",
       "23673  2017-07-01 01-PM  ETHUSD  275.01   3010787.99\n",
       "\n",
       "[23674 rows x 4 columns]"
      ]
     },
     "execution_count": 78,
     "metadata": {},
     "output_type": "execute_result"
    }
   ],
   "source": [
    "data = pd.read_csv('https://docs.google.com/spreadsheets/d/1kTrAFSrr-xP3REs0Lly0TdV4ekrHahBXLg9r5qKxmV8/export?format=csv&gid=0')\n",
    "data"
   ]
  },
  {
   "cell_type": "code",
   "execution_count": 79,
   "metadata": {},
   "outputs": [
    {
     "data": {
      "text/html": [
       "<div>\n",
       "<style scoped>\n",
       "    .dataframe tbody tr th:only-of-type {\n",
       "        vertical-align: middle;\n",
       "    }\n",
       "\n",
       "    .dataframe tbody tr th {\n",
       "        vertical-align: top;\n",
       "    }\n",
       "\n",
       "    .dataframe thead th {\n",
       "        text-align: right;\n",
       "    }\n",
       "</style>\n",
       "<table border=\"1\" class=\"dataframe\">\n",
       "  <thead>\n",
       "    <tr style=\"text-align: right;\">\n",
       "      <th></th>\n",
       "      <th>Date</th>\n",
       "      <th>Symbol</th>\n",
       "      <th>Close</th>\n",
       "      <th>Volume</th>\n",
       "    </tr>\n",
       "  </thead>\n",
       "  <tbody>\n",
       "    <tr>\n",
       "      <th>0</th>\n",
       "      <td>2020-03-13 12-PM</td>\n",
       "      <td>ETHUSD</td>\n",
       "      <td>128.71</td>\n",
       "      <td>3906590.52</td>\n",
       "    </tr>\n",
       "    <tr>\n",
       "      <th>1</th>\n",
       "      <td>2020-03-13 12-AM</td>\n",
       "      <td>ETHUSD</td>\n",
       "      <td>129.94</td>\n",
       "      <td>10329663.70</td>\n",
       "    </tr>\n",
       "    <tr>\n",
       "      <th>2</th>\n",
       "      <td>2020-03-13 11-AM</td>\n",
       "      <td>ETHUSD</td>\n",
       "      <td>119.51</td>\n",
       "      <td>3311080.29</td>\n",
       "    </tr>\n",
       "    <tr>\n",
       "      <th>3</th>\n",
       "      <td>2020-03-13 10-AM</td>\n",
       "      <td>ETHUSD</td>\n",
       "      <td>124.47</td>\n",
       "      <td>3483436.48</td>\n",
       "    </tr>\n",
       "    <tr>\n",
       "      <th>4</th>\n",
       "      <td>2020-03-13 09-AM</td>\n",
       "      <td>ETHUSD</td>\n",
       "      <td>124.08</td>\n",
       "      <td>2767584.44</td>\n",
       "    </tr>\n",
       "  </tbody>\n",
       "</table>\n",
       "</div>"
      ],
      "text/plain": [
       "               Date  Symbol   Close       Volume\n",
       "0  2020-03-13 12-PM  ETHUSD  128.71   3906590.52\n",
       "1  2020-03-13 12-AM  ETHUSD  129.94  10329663.70\n",
       "2  2020-03-13 11-AM  ETHUSD  119.51   3311080.29\n",
       "3  2020-03-13 10-AM  ETHUSD  124.47   3483436.48\n",
       "4  2020-03-13 09-AM  ETHUSD  124.08   2767584.44"
      ]
     },
     "execution_count": 79,
     "metadata": {},
     "output_type": "execute_result"
    }
   ],
   "source": [
    "df1 = data.copy()\n",
    "df1.head()"
   ]
  },
  {
   "cell_type": "code",
   "execution_count": 80,
   "metadata": {},
   "outputs": [
    {
     "data": {
      "text/plain": [
       "<AxesSubplot:>"
      ]
     },
     "execution_count": 80,
     "metadata": {},
     "output_type": "execute_result"
    },
    {
     "data": {
      "image/png": "[encoded data removed]",
      "text/plain": [
       "<Figure size 936x432 with 1 Axes>"
      ]
     },
     "metadata": {
      "needs_background": "light"
     },
     "output_type": "display_data"
    }
   ],
   "source": [
    "df1.plot()"
   ]
  },
  {
   "cell_type": "code",
   "execution_count": 81,
   "metadata": {},
   "outputs": [],
   "source": [
    "# df1.Date = pd.to_datetime(df1.Date, format = '%Y-%m-%d-%t')"
   ]
  },
  {
   "cell_type": "code",
   "execution_count": 82,
   "metadata": {},
   "outputs": [
    {
     "data": {
      "text/html": [
       "<div>\n",
       "<style scoped>\n",
       "    .dataframe tbody tr th:only-of-type {\n",
       "        vertical-align: middle;\n",
       "    }\n",
       "\n",
       "    .dataframe tbody tr th {\n",
       "        vertical-align: top;\n",
       "    }\n",
       "\n",
       "    .dataframe thead th {\n",
       "        text-align: right;\n",
       "    }\n",
       "</style>\n",
       "<table border=\"1\" class=\"dataframe\">\n",
       "  <thead>\n",
       "    <tr style=\"text-align: right;\">\n",
       "      <th></th>\n",
       "      <th>Date</th>\n",
       "      <th>Symbol</th>\n",
       "      <th>Close</th>\n",
       "      <th>Volume</th>\n",
       "    </tr>\n",
       "  </thead>\n",
       "  <tbody>\n",
       "    <tr>\n",
       "      <th>0</th>\n",
       "      <td>2020-03-13 12-PM</td>\n",
       "      <td>ETHUSD</td>\n",
       "      <td>128.71</td>\n",
       "      <td>3906590.52</td>\n",
       "    </tr>\n",
       "    <tr>\n",
       "      <th>1</th>\n",
       "      <td>2020-03-13 12-AM</td>\n",
       "      <td>ETHUSD</td>\n",
       "      <td>129.94</td>\n",
       "      <td>10329663.70</td>\n",
       "    </tr>\n",
       "    <tr>\n",
       "      <th>2</th>\n",
       "      <td>2020-03-13 11-AM</td>\n",
       "      <td>ETHUSD</td>\n",
       "      <td>119.51</td>\n",
       "      <td>3311080.29</td>\n",
       "    </tr>\n",
       "    <tr>\n",
       "      <th>3</th>\n",
       "      <td>2020-03-13 10-AM</td>\n",
       "      <td>ETHUSD</td>\n",
       "      <td>124.47</td>\n",
       "      <td>3483436.48</td>\n",
       "    </tr>\n",
       "    <tr>\n",
       "      <th>4</th>\n",
       "      <td>2020-03-13 09-AM</td>\n",
       "      <td>ETHUSD</td>\n",
       "      <td>124.08</td>\n",
       "      <td>2767584.44</td>\n",
       "    </tr>\n",
       "  </tbody>\n",
       "</table>\n",
       "</div>"
      ],
      "text/plain": [
       "               Date  Symbol   Close       Volume\n",
       "0  2020-03-13 12-PM  ETHUSD  128.71   3906590.52\n",
       "1  2020-03-13 12-AM  ETHUSD  129.94  10329663.70\n",
       "2  2020-03-13 11-AM  ETHUSD  119.51   3311080.29\n",
       "3  2020-03-13 10-AM  ETHUSD  124.47   3483436.48\n",
       "4  2020-03-13 09-AM  ETHUSD  124.08   2767584.44"
      ]
     },
     "execution_count": 82,
     "metadata": {},
     "output_type": "execute_result"
    }
   ],
   "source": [
    "df1.head()"
   ]
  },
  {
   "cell_type": "markdown",
   "metadata": {},
   "source": [
    "### Upsampling- increase frequency\n",
    "\n",
    "### Downsampling - decreasing frequency"
   ]
  },
  {
   "cell_type": "code",
   "execution_count": 83,
   "metadata": {},
   "outputs": [
    {
     "data": {
      "text/html": [
       "<div>\n",
       "<style scoped>\n",
       "    .dataframe tbody tr th:only-of-type {\n",
       "        vertical-align: middle;\n",
       "    }\n",
       "\n",
       "    .dataframe tbody tr th {\n",
       "        vertical-align: top;\n",
       "    }\n",
       "\n",
       "    .dataframe thead th {\n",
       "        text-align: right;\n",
       "    }\n",
       "</style>\n",
       "<table border=\"1\" class=\"dataframe\">\n",
       "  <thead>\n",
       "    <tr style=\"text-align: right;\">\n",
       "      <th></th>\n",
       "      <th>date</th>\n",
       "      <th>coffee_consumption</th>\n",
       "      <th>year</th>\n",
       "      <th>month</th>\n",
       "      <th>day</th>\n",
       "      <th>weekday</th>\n",
       "    </tr>\n",
       "  </thead>\n",
       "  <tbody>\n",
       "    <tr>\n",
       "      <th>0</th>\n",
       "      <td>2019-01-01</td>\n",
       "      <td>14.301915</td>\n",
       "      <td>2019</td>\n",
       "      <td>1</td>\n",
       "      <td>1</td>\n",
       "      <td>Tuesday</td>\n",
       "    </tr>\n",
       "    <tr>\n",
       "      <th>1</th>\n",
       "      <td>2019-01-02</td>\n",
       "      <td>12.905900</td>\n",
       "      <td>2019</td>\n",
       "      <td>1</td>\n",
       "      <td>1</td>\n",
       "      <td>Wednesday</td>\n",
       "    </tr>\n",
       "    <tr>\n",
       "      <th>2</th>\n",
       "      <td>2019-01-03</td>\n",
       "      <td>10.046015</td>\n",
       "      <td>2019</td>\n",
       "      <td>1</td>\n",
       "      <td>1</td>\n",
       "      <td>Thursday</td>\n",
       "    </tr>\n",
       "    <tr>\n",
       "      <th>3</th>\n",
       "      <td>2019-01-04</td>\n",
       "      <td>6.354805</td>\n",
       "      <td>2019</td>\n",
       "      <td>1</td>\n",
       "      <td>1</td>\n",
       "      <td>Friday</td>\n",
       "    </tr>\n",
       "    <tr>\n",
       "      <th>4</th>\n",
       "      <td>2019-01-07</td>\n",
       "      <td>8.545563</td>\n",
       "      <td>2019</td>\n",
       "      <td>1</td>\n",
       "      <td>1</td>\n",
       "      <td>Monday</td>\n",
       "    </tr>\n",
       "  </tbody>\n",
       "</table>\n",
       "</div>"
      ],
      "text/plain": [
       "        date  coffee_consumption  year  month  day    weekday\n",
       "0 2019-01-01           14.301915  2019      1    1    Tuesday\n",
       "1 2019-01-02           12.905900  2019      1    1  Wednesday\n",
       "2 2019-01-03           10.046015  2019      1    1   Thursday\n",
       "3 2019-01-04            6.354805  2019      1    1     Friday\n",
       "4 2019-01-07            8.545563  2019      1    1     Monday"
      ]
     },
     "execution_count": 83,
     "metadata": {},
     "output_type": "execute_result"
    }
   ],
   "source": [
    "df.head()"
   ]
  },
  {
   "cell_type": "code",
   "execution_count": 84,
   "metadata": {},
   "outputs": [],
   "source": [
    "# Change to datetime index\n",
    "\n",
    "df['date']= pd.to_datetime(df.date)"
   ]
  },
  {
   "cell_type": "code",
   "execution_count": 85,
   "metadata": {},
   "outputs": [
    {
     "ename": "AttributeError",
     "evalue": "'Series' object has no attribute 'day_name'",
     "output_type": "error",
     "traceback": [
      "\u001b[0;31m---------------------------------------------------------------------------\u001b[0m",
      "\u001b[0;31mAttributeError\u001b[0m                            Traceback (most recent call last)",
      "\u001b[0;32m/var/folders/b2/3fdswr7x4v5fhdt54wpcfmdw0000gn/T/ipykernel_2048/2954627841.py\u001b[0m in \u001b[0;36m<module>\u001b[0;34m\u001b[0m\n\u001b[0;32m----> 1\u001b[0;31m \u001b[0mdf\u001b[0m\u001b[0;34m[\u001b[0m\u001b[0;34m'weekday'\u001b[0m\u001b[0;34m]\u001b[0m \u001b[0;34m=\u001b[0m \u001b[0mdf\u001b[0m\u001b[0;34m.\u001b[0m\u001b[0mdate\u001b[0m\u001b[0;34m.\u001b[0m\u001b[0mday_name\u001b[0m\u001b[0;34m(\u001b[0m\u001b[0;34m)\u001b[0m\u001b[0;34m\u001b[0m\u001b[0;34m\u001b[0m\u001b[0m\n\u001b[0m",
      "\u001b[0;32m/usr/local/anaconda3/lib/python3.9/site-packages/pandas/core/generic.py\u001b[0m in \u001b[0;36m__getattr__\u001b[0;34m(self, name)\u001b[0m\n\u001b[1;32m   5485\u001b[0m         ):\n\u001b[1;32m   5486\u001b[0m             \u001b[0;32mreturn\u001b[0m \u001b[0mself\u001b[0m\u001b[0;34m[\u001b[0m\u001b[0mname\u001b[0m\u001b[0;34m]\u001b[0m\u001b[0;34m\u001b[0m\u001b[0;34m\u001b[0m\u001b[0m\n\u001b[0;32m-> 5487\u001b[0;31m         \u001b[0;32mreturn\u001b[0m \u001b[0mobject\u001b[0m\u001b[0;34m.\u001b[0m\u001b[0m__getattribute__\u001b[0m\u001b[0;34m(\u001b[0m\u001b[0mself\u001b[0m\u001b[0;34m,\u001b[0m \u001b[0mname\u001b[0m\u001b[0;34m)\u001b[0m\u001b[0;34m\u001b[0m\u001b[0;34m\u001b[0m\u001b[0m\n\u001b[0m\u001b[1;32m   5488\u001b[0m \u001b[0;34m\u001b[0m\u001b[0m\n\u001b[1;32m   5489\u001b[0m     \u001b[0;32mdef\u001b[0m \u001b[0m__setattr__\u001b[0m\u001b[0;34m(\u001b[0m\u001b[0mself\u001b[0m\u001b[0;34m,\u001b[0m \u001b[0mname\u001b[0m\u001b[0;34m:\u001b[0m \u001b[0mstr\u001b[0m\u001b[0;34m,\u001b[0m \u001b[0mvalue\u001b[0m\u001b[0;34m)\u001b[0m \u001b[0;34m->\u001b[0m \u001b[0;32mNone\u001b[0m\u001b[0;34m:\u001b[0m\u001b[0;34m\u001b[0m\u001b[0;34m\u001b[0m\u001b[0m\n",
      "\u001b[0;31mAttributeError\u001b[0m: 'Series' object has no attribute 'day_name'"
     ]
    }
   ],
   "source": [
    "df['weekday'] = df.date.day_name()"
   ]
  },
  {
   "cell_type": "code",
   "execution_count": null,
   "metadata": {},
   "outputs": [],
   "source": [
    "by_day = df.asfreq('D')"
   ]
  },
  {
   "cell_type": "code",
   "execution_count": null,
   "metadata": {},
   "outputs": [],
   "source": [
    "by_day.tail()"
   ]
  },
  {
   "cell_type": "code",
   "execution_count": 86,
   "metadata": {},
   "outputs": [],
   "source": [
    "# Set date date as date time index\n",
    "\n",
    "df = df.set_index('date').sort_index()"
   ]
  },
  {
   "cell_type": "code",
   "execution_count": 87,
   "metadata": {},
   "outputs": [
    {
     "ename": "NameError",
     "evalue": "name 'by_day' is not defined",
     "output_type": "error",
     "traceback": [
      "\u001b[0;31m---------------------------------------------------------------------------\u001b[0m",
      "\u001b[0;31mNameError\u001b[0m                                 Traceback (most recent call last)",
      "\u001b[0;32m/var/folders/b2/3fdswr7x4v5fhdt54wpcfmdw0000gn/T/ipykernel_2048/4092898149.py\u001b[0m in \u001b[0;36m<module>\u001b[0;34m\u001b[0m\n\u001b[0;32m----> 1\u001b[0;31m by_day.assign(\n\u001b[0m\u001b[1;32m      2\u001b[0m \u001b[0mffill\u001b[0m \u001b[0;34m=\u001b[0m \u001b[0;32mlambda\u001b[0m \u001b[0mdf\u001b[0m\u001b[0;34m:\u001b[0m \u001b[0mdf\u001b[0m\u001b[0;34m.\u001b[0m\u001b[0mcoffee_consumption\u001b[0m\u001b[0;34m.\u001b[0m\u001b[0mffill\u001b[0m\u001b[0;34m(\u001b[0m\u001b[0;34m)\u001b[0m\u001b[0;34m,\u001b[0m\u001b[0;34m\u001b[0m\u001b[0;34m\u001b[0m\u001b[0m\n\u001b[1;32m      3\u001b[0m bfill = lambda df: df.coffee_consumption.ffill()).head(10)\n",
      "\u001b[0;31mNameError\u001b[0m: name 'by_day' is not defined"
     ]
    }
   ],
   "source": [
    "by_day.assign(\n",
    "ffill = lambda df: df.coffee_consumption.ffill(), \n",
    "bfill = lambda df: df.coffee_consumption.ffill()).head(10)"
   ]
  },
  {
   "cell_type": "code",
   "execution_count": 88,
   "metadata": {},
   "outputs": [
    {
     "data": {
      "text/html": [
       "<div>\n",
       "<style scoped>\n",
       "    .dataframe tbody tr th:only-of-type {\n",
       "        vertical-align: middle;\n",
       "    }\n",
       "\n",
       "    .dataframe tbody tr th {\n",
       "        vertical-align: top;\n",
       "    }\n",
       "\n",
       "    .dataframe thead th {\n",
       "        text-align: right;\n",
       "    }\n",
       "</style>\n",
       "<table border=\"1\" class=\"dataframe\">\n",
       "  <thead>\n",
       "    <tr style=\"text-align: right;\">\n",
       "      <th></th>\n",
       "      <th>coffee_consumption</th>\n",
       "      <th>year</th>\n",
       "      <th>month</th>\n",
       "      <th>day</th>\n",
       "      <th>weekday</th>\n",
       "    </tr>\n",
       "    <tr>\n",
       "      <th>date</th>\n",
       "      <th></th>\n",
       "      <th></th>\n",
       "      <th></th>\n",
       "      <th></th>\n",
       "      <th></th>\n",
       "    </tr>\n",
       "  </thead>\n",
       "  <tbody>\n",
       "    <tr>\n",
       "      <th>2019-01-01</th>\n",
       "      <td>14.301915</td>\n",
       "      <td>2019</td>\n",
       "      <td>1</td>\n",
       "      <td>1</td>\n",
       "      <td>Tuesday</td>\n",
       "    </tr>\n",
       "    <tr>\n",
       "      <th>2019-01-02</th>\n",
       "      <td>12.905900</td>\n",
       "      <td>2019</td>\n",
       "      <td>1</td>\n",
       "      <td>1</td>\n",
       "      <td>Wednesday</td>\n",
       "    </tr>\n",
       "    <tr>\n",
       "      <th>2019-01-03</th>\n",
       "      <td>10.046015</td>\n",
       "      <td>2019</td>\n",
       "      <td>1</td>\n",
       "      <td>1</td>\n",
       "      <td>Thursday</td>\n",
       "    </tr>\n",
       "    <tr>\n",
       "      <th>2019-01-04</th>\n",
       "      <td>6.354805</td>\n",
       "      <td>2019</td>\n",
       "      <td>1</td>\n",
       "      <td>1</td>\n",
       "      <td>Friday</td>\n",
       "    </tr>\n",
       "    <tr>\n",
       "      <th>2019-01-07</th>\n",
       "      <td>8.545563</td>\n",
       "      <td>2019</td>\n",
       "      <td>1</td>\n",
       "      <td>1</td>\n",
       "      <td>Monday</td>\n",
       "    </tr>\n",
       "    <tr>\n",
       "      <th>2019-01-08</th>\n",
       "      <td>9.410101</td>\n",
       "      <td>2019</td>\n",
       "      <td>1</td>\n",
       "      <td>1</td>\n",
       "      <td>Tuesday</td>\n",
       "    </tr>\n",
       "    <tr>\n",
       "      <th>2019-01-09</th>\n",
       "      <td>7.219271</td>\n",
       "      <td>2019</td>\n",
       "      <td>1</td>\n",
       "      <td>1</td>\n",
       "      <td>Wednesday</td>\n",
       "    </tr>\n",
       "    <tr>\n",
       "      <th>2019-01-10</th>\n",
       "      <td>9.338456</td>\n",
       "      <td>2019</td>\n",
       "      <td>1</td>\n",
       "      <td>1</td>\n",
       "      <td>Thursday</td>\n",
       "    </tr>\n",
       "    <tr>\n",
       "      <th>2019-01-11</th>\n",
       "      <td>11.872667</td>\n",
       "      <td>2019</td>\n",
       "      <td>1</td>\n",
       "      <td>1</td>\n",
       "      <td>Friday</td>\n",
       "    </tr>\n",
       "    <tr>\n",
       "      <th>2019-01-14</th>\n",
       "      <td>9.198816</td>\n",
       "      <td>2019</td>\n",
       "      <td>1</td>\n",
       "      <td>1</td>\n",
       "      <td>Monday</td>\n",
       "    </tr>\n",
       "  </tbody>\n",
       "</table>\n",
       "</div>"
      ],
      "text/plain": [
       "            coffee_consumption  year  month  day    weekday\n",
       "date                                                       \n",
       "2019-01-01           14.301915  2019      1    1    Tuesday\n",
       "2019-01-02           12.905900  2019      1    1  Wednesday\n",
       "2019-01-03           10.046015  2019      1    1   Thursday\n",
       "2019-01-04            6.354805  2019      1    1     Friday\n",
       "2019-01-07            8.545563  2019      1    1     Monday\n",
       "2019-01-08            9.410101  2019      1    1    Tuesday\n",
       "2019-01-09            7.219271  2019      1    1  Wednesday\n",
       "2019-01-10            9.338456  2019      1    1   Thursday\n",
       "2019-01-11           11.872667  2019      1    1     Friday\n",
       "2019-01-14            9.198816  2019      1    1     Monday"
      ]
     },
     "execution_count": 88,
     "metadata": {},
     "output_type": "execute_result"
    }
   ],
   "source": [
    "df.head(10)"
   ]
  },
  {
   "cell_type": "markdown",
   "metadata": {},
   "source": [
    "### Rolling average / Windows\n",
    "\n",
    "https://pandas.pydata.org/pandas-docs/stable/user_guide/timeseries.html#offset-aliases\n",
    "\n",
    "Offset aliases\n",
    "A number of string aliases are given to useful common time series frequencies. We will refer to these aliases as offset aliases.\n",
    "\n",
    "#### Alias -- Description\n",
    "\n",
    "- B -- business day frequency\n",
    "\n",
    "- C -- custom business day frequency\n",
    "\n",
    "- D -- calendar day frequency\n",
    "\n",
    "- W -- weekly frequency\n",
    "\n",
    "- M -- month end frequency\n",
    "\n",
    "- SM -- semi-month end frequency (15th and end of month)\n",
    "\n",
    "- BM -- business month end frequency\n",
    "\n",
    "- CBM -- custom business month end frequency\n",
    "\n",
    "- MS -- month start frequency\n",
    "\n",
    "- SMS -- semi-month start frequency (1st and 15th)\n",
    "\n",
    "- BMS -- business month start frequency\n",
    "\n",
    "- CBMS -- custom business month start frequency\n",
    "\n",
    "- Q -- quarter end frequency\n",
    "\n",
    "- BQ -- business quarter end frequency\n",
    "\n",
    "- QS -- quarter start frequency\n",
    "\n",
    "- BQ -- business quarter start frequency\n",
    "\n",
    "- A, Y -- year end frequency\n",
    "\n",
    "- BA, BY -- business year end frequency\n",
    "\n",
    "- AS, YS -- year start frequency\n",
    "\n",
    "- BAS, BYS -- business year start frequency\n",
    "\n",
    "- BH -- business hour frequency\n",
    "\n",
    "- H -- hourly frequency\n",
    "\n",
    "- T, min -- minutely frequency\n",
    "\n",
    "- S -- secondly frequency\n",
    "\n",
    "- L, ms -- milliseconds\n",
    "\n",
    "- U, us -- microseconds\n",
    "\n",
    "- N -- nanoseconds"
   ]
  },
  {
   "cell_type": "code",
   "execution_count": 89,
   "metadata": {},
   "outputs": [
    {
     "data": {
      "text/html": [
       "<div>\n",
       "<style scoped>\n",
       "    .dataframe tbody tr th:only-of-type {\n",
       "        vertical-align: middle;\n",
       "    }\n",
       "\n",
       "    .dataframe tbody tr th {\n",
       "        vertical-align: top;\n",
       "    }\n",
       "\n",
       "    .dataframe thead th {\n",
       "        text-align: right;\n",
       "    }\n",
       "</style>\n",
       "<table border=\"1\" class=\"dataframe\">\n",
       "  <thead>\n",
       "    <tr style=\"text-align: right;\">\n",
       "      <th></th>\n",
       "      <th>coffee_consumption</th>\n",
       "      <th>year</th>\n",
       "      <th>month</th>\n",
       "      <th>day</th>\n",
       "    </tr>\n",
       "    <tr>\n",
       "      <th>date</th>\n",
       "      <th></th>\n",
       "      <th></th>\n",
       "      <th></th>\n",
       "      <th></th>\n",
       "    </tr>\n",
       "  </thead>\n",
       "  <tbody>\n",
       "    <tr>\n",
       "      <th>2019-01-01</th>\n",
       "      <td>NaN</td>\n",
       "      <td>NaN</td>\n",
       "      <td>NaN</td>\n",
       "      <td>NaN</td>\n",
       "    </tr>\n",
       "    <tr>\n",
       "      <th>2019-01-02</th>\n",
       "      <td>NaN</td>\n",
       "      <td>NaN</td>\n",
       "      <td>NaN</td>\n",
       "      <td>NaN</td>\n",
       "    </tr>\n",
       "    <tr>\n",
       "      <th>2019-01-03</th>\n",
       "      <td>NaN</td>\n",
       "      <td>NaN</td>\n",
       "      <td>NaN</td>\n",
       "      <td>NaN</td>\n",
       "    </tr>\n",
       "    <tr>\n",
       "      <th>2019-01-04</th>\n",
       "      <td>NaN</td>\n",
       "      <td>NaN</td>\n",
       "      <td>NaN</td>\n",
       "      <td>NaN</td>\n",
       "    </tr>\n",
       "    <tr>\n",
       "      <th>2019-01-07</th>\n",
       "      <td>NaN</td>\n",
       "      <td>NaN</td>\n",
       "      <td>NaN</td>\n",
       "      <td>NaN</td>\n",
       "    </tr>\n",
       "    <tr>\n",
       "      <th>...</th>\n",
       "      <td>...</td>\n",
       "      <td>...</td>\n",
       "      <td>...</td>\n",
       "      <td>...</td>\n",
       "    </tr>\n",
       "    <tr>\n",
       "      <th>2019-12-25</th>\n",
       "      <td>10.418777</td>\n",
       "      <td>2019.0</td>\n",
       "      <td>12.0</td>\n",
       "      <td>12.0</td>\n",
       "    </tr>\n",
       "    <tr>\n",
       "      <th>2019-12-26</th>\n",
       "      <td>10.302444</td>\n",
       "      <td>2019.0</td>\n",
       "      <td>12.0</td>\n",
       "      <td>12.0</td>\n",
       "    </tr>\n",
       "    <tr>\n",
       "      <th>2019-12-27</th>\n",
       "      <td>9.790556</td>\n",
       "      <td>2019.0</td>\n",
       "      <td>12.0</td>\n",
       "      <td>12.0</td>\n",
       "    </tr>\n",
       "    <tr>\n",
       "      <th>2019-12-30</th>\n",
       "      <td>10.039354</td>\n",
       "      <td>2019.0</td>\n",
       "      <td>12.0</td>\n",
       "      <td>12.0</td>\n",
       "    </tr>\n",
       "    <tr>\n",
       "      <th>2019-12-31</th>\n",
       "      <td>9.887829</td>\n",
       "      <td>2019.0</td>\n",
       "      <td>12.0</td>\n",
       "      <td>12.0</td>\n",
       "    </tr>\n",
       "  </tbody>\n",
       "</table>\n",
       "<p>261 rows × 4 columns</p>\n",
       "</div>"
      ],
      "text/plain": [
       "            coffee_consumption    year  month   day\n",
       "date                                               \n",
       "2019-01-01                 NaN     NaN    NaN   NaN\n",
       "2019-01-02                 NaN     NaN    NaN   NaN\n",
       "2019-01-03                 NaN     NaN    NaN   NaN\n",
       "2019-01-04                 NaN     NaN    NaN   NaN\n",
       "2019-01-07                 NaN     NaN    NaN   NaN\n",
       "...                        ...     ...    ...   ...\n",
       "2019-12-25           10.418777  2019.0   12.0  12.0\n",
       "2019-12-26           10.302444  2019.0   12.0  12.0\n",
       "2019-12-27            9.790556  2019.0   12.0  12.0\n",
       "2019-12-30           10.039354  2019.0   12.0  12.0\n",
       "2019-12-31            9.887829  2019.0   12.0  12.0\n",
       "\n",
       "[261 rows x 4 columns]"
      ]
     },
     "execution_count": 89,
     "metadata": {},
     "output_type": "execute_result"
    }
   ],
   "source": [
    "df.rolling(10).mean()"
   ]
  },
  {
   "cell_type": "code",
   "execution_count": 90,
   "metadata": {},
   "outputs": [
    {
     "data": {
      "text/plain": [
       "Rolling [window=3,center=False,axis=0,method=single]"
      ]
     },
     "execution_count": 90,
     "metadata": {},
     "output_type": "execute_result"
    }
   ],
   "source": [
    "df.resample('W').mean().rolling(3)"
   ]
  },
  {
   "cell_type": "markdown",
   "metadata": {},
   "source": [
    "### Lagging and Lead\n",
    "\n",
    "https://pandas.pydata.org/pandas-docs/stable/reference/api/pandas.DataFrame.shift.html?highlight=shift#pandas.DataFrame.shift\n",
    "\n",
    "##### shifting = shifts forward by specifies value. e.g move a value to next day/ week etc\n",
    "\n",
    "\n",
    "- Index.shift -- Shift values of Index.\n",
    "\n",
    "- DatetimeIndex.shift -- Shift values of DatetimeIndex.\n",
    "\n",
    "- PeriodIndex.shift -- Shift values of PeriodIndex.\n",
    "\n",
    "- tshift -- Shift the time index, using the index’s frequency if available.\n"
   ]
  },
  {
   "cell_type": "code",
   "execution_count": 91,
   "metadata": {},
   "outputs": [],
   "source": [
    "# Shift dates by 2\n",
    "df['shift(2)'] = df.day.shift(2)"
   ]
  },
  {
   "cell_type": "code",
   "execution_count": 92,
   "metadata": {},
   "outputs": [
    {
     "data": {
      "text/html": [
       "<div>\n",
       "<style scoped>\n",
       "    .dataframe tbody tr th:only-of-type {\n",
       "        vertical-align: middle;\n",
       "    }\n",
       "\n",
       "    .dataframe tbody tr th {\n",
       "        vertical-align: top;\n",
       "    }\n",
       "\n",
       "    .dataframe thead th {\n",
       "        text-align: right;\n",
       "    }\n",
       "</style>\n",
       "<table border=\"1\" class=\"dataframe\">\n",
       "  <thead>\n",
       "    <tr style=\"text-align: right;\">\n",
       "      <th></th>\n",
       "      <th>coffee_consumption</th>\n",
       "      <th>year</th>\n",
       "      <th>month</th>\n",
       "      <th>day</th>\n",
       "      <th>weekday</th>\n",
       "      <th>shift(2)</th>\n",
       "    </tr>\n",
       "    <tr>\n",
       "      <th>date</th>\n",
       "      <th></th>\n",
       "      <th></th>\n",
       "      <th></th>\n",
       "      <th></th>\n",
       "      <th></th>\n",
       "      <th></th>\n",
       "    </tr>\n",
       "  </thead>\n",
       "  <tbody>\n",
       "    <tr>\n",
       "      <th>2019-01-01</th>\n",
       "      <td>14.301915</td>\n",
       "      <td>2019</td>\n",
       "      <td>1</td>\n",
       "      <td>1</td>\n",
       "      <td>Tuesday</td>\n",
       "      <td>NaN</td>\n",
       "    </tr>\n",
       "    <tr>\n",
       "      <th>2019-01-02</th>\n",
       "      <td>12.905900</td>\n",
       "      <td>2019</td>\n",
       "      <td>1</td>\n",
       "      <td>1</td>\n",
       "      <td>Wednesday</td>\n",
       "      <td>NaN</td>\n",
       "    </tr>\n",
       "    <tr>\n",
       "      <th>2019-01-03</th>\n",
       "      <td>10.046015</td>\n",
       "      <td>2019</td>\n",
       "      <td>1</td>\n",
       "      <td>1</td>\n",
       "      <td>Thursday</td>\n",
       "      <td>1.0</td>\n",
       "    </tr>\n",
       "    <tr>\n",
       "      <th>2019-01-04</th>\n",
       "      <td>6.354805</td>\n",
       "      <td>2019</td>\n",
       "      <td>1</td>\n",
       "      <td>1</td>\n",
       "      <td>Friday</td>\n",
       "      <td>1.0</td>\n",
       "    </tr>\n",
       "    <tr>\n",
       "      <th>2019-01-07</th>\n",
       "      <td>8.545563</td>\n",
       "      <td>2019</td>\n",
       "      <td>1</td>\n",
       "      <td>1</td>\n",
       "      <td>Monday</td>\n",
       "      <td>1.0</td>\n",
       "    </tr>\n",
       "    <tr>\n",
       "      <th>2019-01-08</th>\n",
       "      <td>9.410101</td>\n",
       "      <td>2019</td>\n",
       "      <td>1</td>\n",
       "      <td>1</td>\n",
       "      <td>Tuesday</td>\n",
       "      <td>1.0</td>\n",
       "    </tr>\n",
       "    <tr>\n",
       "      <th>2019-01-09</th>\n",
       "      <td>7.219271</td>\n",
       "      <td>2019</td>\n",
       "      <td>1</td>\n",
       "      <td>1</td>\n",
       "      <td>Wednesday</td>\n",
       "      <td>1.0</td>\n",
       "    </tr>\n",
       "    <tr>\n",
       "      <th>2019-01-10</th>\n",
       "      <td>9.338456</td>\n",
       "      <td>2019</td>\n",
       "      <td>1</td>\n",
       "      <td>1</td>\n",
       "      <td>Thursday</td>\n",
       "      <td>1.0</td>\n",
       "    </tr>\n",
       "    <tr>\n",
       "      <th>2019-01-11</th>\n",
       "      <td>11.872667</td>\n",
       "      <td>2019</td>\n",
       "      <td>1</td>\n",
       "      <td>1</td>\n",
       "      <td>Friday</td>\n",
       "      <td>1.0</td>\n",
       "    </tr>\n",
       "    <tr>\n",
       "      <th>2019-01-14</th>\n",
       "      <td>9.198816</td>\n",
       "      <td>2019</td>\n",
       "      <td>1</td>\n",
       "      <td>1</td>\n",
       "      <td>Monday</td>\n",
       "      <td>1.0</td>\n",
       "    </tr>\n",
       "  </tbody>\n",
       "</table>\n",
       "</div>"
      ],
      "text/plain": [
       "            coffee_consumption  year  month  day    weekday  shift(2)\n",
       "date                                                                 \n",
       "2019-01-01           14.301915  2019      1    1    Tuesday       NaN\n",
       "2019-01-02           12.905900  2019      1    1  Wednesday       NaN\n",
       "2019-01-03           10.046015  2019      1    1   Thursday       1.0\n",
       "2019-01-04            6.354805  2019      1    1     Friday       1.0\n",
       "2019-01-07            8.545563  2019      1    1     Monday       1.0\n",
       "2019-01-08            9.410101  2019      1    1    Tuesday       1.0\n",
       "2019-01-09            7.219271  2019      1    1  Wednesday       1.0\n",
       "2019-01-10            9.338456  2019      1    1   Thursday       1.0\n",
       "2019-01-11           11.872667  2019      1    1     Friday       1.0\n",
       "2019-01-14            9.198816  2019      1    1     Monday       1.0"
      ]
     },
     "execution_count": 92,
     "metadata": {},
     "output_type": "execute_result"
    }
   ],
   "source": [
    "df.head(10)"
   ]
  },
  {
   "cell_type": "markdown",
   "metadata": {},
   "source": [
    "### Time delta"
   ]
  },
  {
   "cell_type": "code",
   "execution_count": 93,
   "metadata": {},
   "outputs": [
    {
     "data": {
      "text/plain": [
       "Timedelta('-233 days +10:25:48.762155')"
      ]
     },
     "execution_count": 93,
     "metadata": {},
     "output_type": "execute_result"
    }
   ],
   "source": [
    "pd.Timestamp.now() - t"
   ]
  },
  {
   "cell_type": "code",
   "execution_count": 94,
   "metadata": {},
   "outputs": [
    {
     "data": {
      "text/plain": [
       "Timestamp('2022-12-03 05:00:00')"
      ]
     },
     "execution_count": 94,
     "metadata": {},
     "output_type": "execute_result"
    }
   ],
   "source": [
    "t"
   ]
  },
  {
   "cell_type": "code",
   "execution_count": 95,
   "metadata": {},
   "outputs": [
    {
     "ename": "TypeError",
     "evalue": "unsupported operand type(s) for //: 'type' and 'type'",
     "output_type": "error",
     "traceback": [
      "\u001b[0;31m---------------------------------------------------------------------------\u001b[0m",
      "\u001b[0;31mTypeError\u001b[0m                                 Traceback (most recent call last)",
      "\u001b[0;32m/var/folders/b2/3fdswr7x4v5fhdt54wpcfmdw0000gn/T/ipykernel_2048/2703700193.py\u001b[0m in \u001b[0;36m<module>\u001b[0;34m\u001b[0m\n\u001b[0;32m----> 1\u001b[0;31m \u001b[0mtype\u001b[0m\u001b[0;34m(\u001b[0m\u001b[0mpd\u001b[0m\u001b[0;34m.\u001b[0m\u001b[0mTimestamp\u001b[0m\u001b[0;34m.\u001b[0m\u001b[0mnow\u001b[0m\u001b[0;34m(\u001b[0m\u001b[0;34m)\u001b[0m \u001b[0;34m-\u001b[0m \u001b[0mt\u001b[0m\u001b[0;34m)\u001b[0m \u001b[0;34m//\u001b[0m \u001b[0mpd\u001b[0m\u001b[0;34m.\u001b[0m\u001b[0mTimedelta\u001b[0m\u001b[0;34m\u001b[0m\u001b[0;34m\u001b[0m\u001b[0m\n\u001b[0m",
      "\u001b[0;31mTypeError\u001b[0m: unsupported operand type(s) for //: 'type' and 'type'"
     ]
    }
   ],
   "source": [
    "type(pd.Timestamp.now() - t) // pd.Timedelta"
   ]
  },
  {
   "cell_type": "markdown",
   "metadata": {},
   "source": [
    "## Data Preparation"
   ]
  },
  {
   "cell_type": "code",
   "execution_count": 96,
   "metadata": {},
   "outputs": [
    {
     "name": "stdout",
     "output_type": "stream",
     "text": [
      "Getting page 3 of 3: https://python.zgulde.net//api/v1/items?page=3=183"
     ]
    }
   ],
   "source": [
    "df = acquire.get_combined_item_stores_sales_data()"
   ]
  },
  {
   "cell_type": "code",
   "execution_count": 97,
   "metadata": {},
   "outputs": [
    {
     "data": {
      "text/html": [
       "<div>\n",
       "<style scoped>\n",
       "    .dataframe tbody tr th:only-of-type {\n",
       "        vertical-align: middle;\n",
       "    }\n",
       "\n",
       "    .dataframe tbody tr th {\n",
       "        vertical-align: top;\n",
       "    }\n",
       "\n",
       "    .dataframe thead th {\n",
       "        text-align: right;\n",
       "    }\n",
       "</style>\n",
       "<table border=\"1\" class=\"dataframe\">\n",
       "  <thead>\n",
       "    <tr style=\"text-align: right;\">\n",
       "      <th></th>\n",
       "      <th>item_id</th>\n",
       "      <th>sale_amount</th>\n",
       "      <th>sale_date</th>\n",
       "      <th>sale_id</th>\n",
       "      <th>store_id</th>\n",
       "      <th>store_address</th>\n",
       "      <th>store_city</th>\n",
       "      <th>store_state</th>\n",
       "      <th>store_zipcode</th>\n",
       "      <th>item_brand</th>\n",
       "      <th>item_name</th>\n",
       "      <th>item_price</th>\n",
       "      <th>item_upc12</th>\n",
       "      <th>item_upc14</th>\n",
       "    </tr>\n",
       "  </thead>\n",
       "  <tbody>\n",
       "    <tr>\n",
       "      <th>0</th>\n",
       "      <td>1</td>\n",
       "      <td>13.0</td>\n",
       "      <td>Tue, 01 Jan 2013 00:00:00 GMT</td>\n",
       "      <td>1</td>\n",
       "      <td>1</td>\n",
       "      <td>12125 Alamo Ranch Pkwy</td>\n",
       "      <td>San Antonio</td>\n",
       "      <td>TX</td>\n",
       "      <td>78253</td>\n",
       "      <td>Riceland</td>\n",
       "      <td>Riceland American Jazmine Rice</td>\n",
       "      <td>0.84</td>\n",
       "      <td>35200264013</td>\n",
       "      <td>35200264013</td>\n",
       "    </tr>\n",
       "    <tr>\n",
       "      <th>1</th>\n",
       "      <td>1</td>\n",
       "      <td>11.0</td>\n",
       "      <td>Wed, 02 Jan 2013 00:00:00 GMT</td>\n",
       "      <td>2</td>\n",
       "      <td>1</td>\n",
       "      <td>12125 Alamo Ranch Pkwy</td>\n",
       "      <td>San Antonio</td>\n",
       "      <td>TX</td>\n",
       "      <td>78253</td>\n",
       "      <td>Riceland</td>\n",
       "      <td>Riceland American Jazmine Rice</td>\n",
       "      <td>0.84</td>\n",
       "      <td>35200264013</td>\n",
       "      <td>35200264013</td>\n",
       "    </tr>\n",
       "    <tr>\n",
       "      <th>2</th>\n",
       "      <td>1</td>\n",
       "      <td>14.0</td>\n",
       "      <td>Thu, 03 Jan 2013 00:00:00 GMT</td>\n",
       "      <td>3</td>\n",
       "      <td>1</td>\n",
       "      <td>12125 Alamo Ranch Pkwy</td>\n",
       "      <td>San Antonio</td>\n",
       "      <td>TX</td>\n",
       "      <td>78253</td>\n",
       "      <td>Riceland</td>\n",
       "      <td>Riceland American Jazmine Rice</td>\n",
       "      <td>0.84</td>\n",
       "      <td>35200264013</td>\n",
       "      <td>35200264013</td>\n",
       "    </tr>\n",
       "    <tr>\n",
       "      <th>3</th>\n",
       "      <td>1</td>\n",
       "      <td>13.0</td>\n",
       "      <td>Fri, 04 Jan 2013 00:00:00 GMT</td>\n",
       "      <td>4</td>\n",
       "      <td>1</td>\n",
       "      <td>12125 Alamo Ranch Pkwy</td>\n",
       "      <td>San Antonio</td>\n",
       "      <td>TX</td>\n",
       "      <td>78253</td>\n",
       "      <td>Riceland</td>\n",
       "      <td>Riceland American Jazmine Rice</td>\n",
       "      <td>0.84</td>\n",
       "      <td>35200264013</td>\n",
       "      <td>35200264013</td>\n",
       "    </tr>\n",
       "    <tr>\n",
       "      <th>4</th>\n",
       "      <td>1</td>\n",
       "      <td>10.0</td>\n",
       "      <td>Sat, 05 Jan 2013 00:00:00 GMT</td>\n",
       "      <td>5</td>\n",
       "      <td>1</td>\n",
       "      <td>12125 Alamo Ranch Pkwy</td>\n",
       "      <td>San Antonio</td>\n",
       "      <td>TX</td>\n",
       "      <td>78253</td>\n",
       "      <td>Riceland</td>\n",
       "      <td>Riceland American Jazmine Rice</td>\n",
       "      <td>0.84</td>\n",
       "      <td>35200264013</td>\n",
       "      <td>35200264013</td>\n",
       "    </tr>\n",
       "    <tr>\n",
       "      <th>...</th>\n",
       "      <td>...</td>\n",
       "      <td>...</td>\n",
       "      <td>...</td>\n",
       "      <td>...</td>\n",
       "      <td>...</td>\n",
       "      <td>...</td>\n",
       "      <td>...</td>\n",
       "      <td>...</td>\n",
       "      <td>...</td>\n",
       "      <td>...</td>\n",
       "      <td>...</td>\n",
       "      <td>...</td>\n",
       "      <td>...</td>\n",
       "      <td>...</td>\n",
       "    </tr>\n",
       "    <tr>\n",
       "      <th>912995</th>\n",
       "      <td>50</td>\n",
       "      <td>63.0</td>\n",
       "      <td>Wed, 27 Dec 2017 00:00:00 GMT</td>\n",
       "      <td>912996</td>\n",
       "      <td>10</td>\n",
       "      <td>8503 NW Military Hwy</td>\n",
       "      <td>San Antonio</td>\n",
       "      <td>TX</td>\n",
       "      <td>78231</td>\n",
       "      <td>Choice</td>\n",
       "      <td>Choice Organic Teas Black Tea Classic Black - 16 Ct</td>\n",
       "      <td>5.20</td>\n",
       "      <td>47445919221</td>\n",
       "      <td>47445919221</td>\n",
       "    </tr>\n",
       "    <tr>\n",
       "      <th>912996</th>\n",
       "      <td>50</td>\n",
       "      <td>59.0</td>\n",
       "      <td>Thu, 28 Dec 2017 00:00:00 GMT</td>\n",
       "      <td>912997</td>\n",
       "      <td>10</td>\n",
       "      <td>8503 NW Military Hwy</td>\n",
       "      <td>San Antonio</td>\n",
       "      <td>TX</td>\n",
       "      <td>78231</td>\n",
       "      <td>Choice</td>\n",
       "      <td>Choice Organic Teas Black Tea Classic Black - 16 Ct</td>\n",
       "      <td>5.20</td>\n",
       "      <td>47445919221</td>\n",
       "      <td>47445919221</td>\n",
       "    </tr>\n",
       "    <tr>\n",
       "      <th>912997</th>\n",
       "      <td>50</td>\n",
       "      <td>74.0</td>\n",
       "      <td>Fri, 29 Dec 2017 00:00:00 GMT</td>\n",
       "      <td>912998</td>\n",
       "      <td>10</td>\n",
       "      <td>8503 NW Military Hwy</td>\n",
       "      <td>San Antonio</td>\n",
       "      <td>TX</td>\n",
       "      <td>78231</td>\n",
       "      <td>Choice</td>\n",
       "      <td>Choice Organic Teas Black Tea Classic Black - 16 Ct</td>\n",
       "      <td>5.20</td>\n",
       "      <td>47445919221</td>\n",
       "      <td>47445919221</td>\n",
       "    </tr>\n",
       "    <tr>\n",
       "      <th>912998</th>\n",
       "      <td>50</td>\n",
       "      <td>62.0</td>\n",
       "      <td>Sat, 30 Dec 2017 00:00:00 GMT</td>\n",
       "      <td>912999</td>\n",
       "      <td>10</td>\n",
       "      <td>8503 NW Military Hwy</td>\n",
       "      <td>San Antonio</td>\n",
       "      <td>TX</td>\n",
       "      <td>78231</td>\n",
       "      <td>Choice</td>\n",
       "      <td>Choice Organic Teas Black Tea Classic Black - 16 Ct</td>\n",
       "      <td>5.20</td>\n",
       "      <td>47445919221</td>\n",
       "      <td>47445919221</td>\n",
       "    </tr>\n",
       "    <tr>\n",
       "      <th>912999</th>\n",
       "      <td>50</td>\n",
       "      <td>82.0</td>\n",
       "      <td>Sun, 31 Dec 2017 00:00:00 GMT</td>\n",
       "      <td>913000</td>\n",
       "      <td>10</td>\n",
       "      <td>8503 NW Military Hwy</td>\n",
       "      <td>San Antonio</td>\n",
       "      <td>TX</td>\n",
       "      <td>78231</td>\n",
       "      <td>Choice</td>\n",
       "      <td>Choice Organic Teas Black Tea Classic Black - 16 Ct</td>\n",
       "      <td>5.20</td>\n",
       "      <td>47445919221</td>\n",
       "      <td>47445919221</td>\n",
       "    </tr>\n",
       "  </tbody>\n",
       "</table>\n",
       "<p>913000 rows × 14 columns</p>\n",
       "</div>"
      ],
      "text/plain": [
       "        item_id  sale_amount                      sale_date  sale_id  \\\n",
       "0             1         13.0  Tue, 01 Jan 2013 00:00:00 GMT        1   \n",
       "1             1         11.0  Wed, 02 Jan 2013 00:00:00 GMT        2   \n",
       "2             1         14.0  Thu, 03 Jan 2013 00:00:00 GMT        3   \n",
       "3             1         13.0  Fri, 04 Jan 2013 00:00:00 GMT        4   \n",
       "4             1         10.0  Sat, 05 Jan 2013 00:00:00 GMT        5   \n",
       "...         ...          ...                            ...      ...   \n",
       "912995       50         63.0  Wed, 27 Dec 2017 00:00:00 GMT   912996   \n",
       "912996       50         59.0  Thu, 28 Dec 2017 00:00:00 GMT   912997   \n",
       "912997       50         74.0  Fri, 29 Dec 2017 00:00:00 GMT   912998   \n",
       "912998       50         62.0  Sat, 30 Dec 2017 00:00:00 GMT   912999   \n",
       "912999       50         82.0  Sun, 31 Dec 2017 00:00:00 GMT   913000   \n",
       "\n",
       "        store_id           store_address   store_city store_state  \\\n",
       "0              1  12125 Alamo Ranch Pkwy  San Antonio          TX   \n",
       "1              1  12125 Alamo Ranch Pkwy  San Antonio          TX   \n",
       "2              1  12125 Alamo Ranch Pkwy  San Antonio          TX   \n",
       "3              1  12125 Alamo Ranch Pkwy  San Antonio          TX   \n",
       "4              1  12125 Alamo Ranch Pkwy  San Antonio          TX   \n",
       "...          ...                     ...          ...         ...   \n",
       "912995        10    8503 NW Military Hwy  San Antonio          TX   \n",
       "912996        10    8503 NW Military Hwy  San Antonio          TX   \n",
       "912997        10    8503 NW Military Hwy  San Antonio          TX   \n",
       "912998        10    8503 NW Military Hwy  San Antonio          TX   \n",
       "912999        10    8503 NW Military Hwy  San Antonio          TX   \n",
       "\n",
       "       store_zipcode item_brand  \\\n",
       "0              78253   Riceland   \n",
       "1              78253   Riceland   \n",
       "2              78253   Riceland   \n",
       "3              78253   Riceland   \n",
       "4              78253   Riceland   \n",
       "...              ...        ...   \n",
       "912995         78231     Choice   \n",
       "912996         78231     Choice   \n",
       "912997         78231     Choice   \n",
       "912998         78231     Choice   \n",
       "912999         78231     Choice   \n",
       "\n",
       "                                                  item_name  item_price  \\\n",
       "0                            Riceland American Jazmine Rice        0.84   \n",
       "1                            Riceland American Jazmine Rice        0.84   \n",
       "2                            Riceland American Jazmine Rice        0.84   \n",
       "3                            Riceland American Jazmine Rice        0.84   \n",
       "4                            Riceland American Jazmine Rice        0.84   \n",
       "...                                                     ...         ...   \n",
       "912995  Choice Organic Teas Black Tea Classic Black - 16 Ct        5.20   \n",
       "912996  Choice Organic Teas Black Tea Classic Black - 16 Ct        5.20   \n",
       "912997  Choice Organic Teas Black Tea Classic Black - 16 Ct        5.20   \n",
       "912998  Choice Organic Teas Black Tea Classic Black - 16 Ct        5.20   \n",
       "912999  Choice Organic Teas Black Tea Classic Black - 16 Ct        5.20   \n",
       "\n",
       "         item_upc12   item_upc14  \n",
       "0       35200264013  35200264013  \n",
       "1       35200264013  35200264013  \n",
       "2       35200264013  35200264013  \n",
       "3       35200264013  35200264013  \n",
       "4       35200264013  35200264013  \n",
       "...             ...          ...  \n",
       "912995  47445919221  47445919221  \n",
       "912996  47445919221  47445919221  \n",
       "912997  47445919221  47445919221  \n",
       "912998  47445919221  47445919221  \n",
       "912999  47445919221  47445919221  \n",
       "\n",
       "[913000 rows x 14 columns]"
      ]
     },
     "execution_count": 97,
     "metadata": {},
     "output_type": "execute_result"
    }
   ],
   "source": [
    "df"
   ]
  },
  {
   "cell_type": "code",
   "execution_count": 98,
   "metadata": {},
   "outputs": [],
   "source": [
    "# Read df from csv file\n",
    "\n",
    "sales = pd.read_csv('sales.csv')\n",
    "stores = pd.read_csv('stores.csv')\n",
    "items = pd.read_csv('items.csv')\n",
    "\n",
    "sales = sales.rename(columns={'store': 'store_id', 'item': 'item_id'})\n",
    "df = pd.merge(sales, stores, how='left', on='store_id')\n",
    "df = pd.merge(df, items, how='left', on='item_id')\n",
    "df = df.drop(columns = ['Unnamed: 0_x', 'Unnamed: 0_y', 'Unnamed: 0'])"
   ]
  },
  {
   "cell_type": "code",
   "execution_count": 99,
   "metadata": {},
   "outputs": [
    {
     "data": {
      "text/html": [
       "<div>\n",
       "<style scoped>\n",
       "    .dataframe tbody tr th:only-of-type {\n",
       "        vertical-align: middle;\n",
       "    }\n",
       "\n",
       "    .dataframe tbody tr th {\n",
       "        vertical-align: top;\n",
       "    }\n",
       "\n",
       "    .dataframe thead th {\n",
       "        text-align: right;\n",
       "    }\n",
       "</style>\n",
       "<table border=\"1\" class=\"dataframe\">\n",
       "  <thead>\n",
       "    <tr style=\"text-align: right;\">\n",
       "      <th></th>\n",
       "      <th>item_id</th>\n",
       "      <th>sale_amount</th>\n",
       "      <th>sale_date</th>\n",
       "      <th>sale_id</th>\n",
       "      <th>store_id</th>\n",
       "      <th>store_address</th>\n",
       "      <th>store_city</th>\n",
       "      <th>store_state</th>\n",
       "      <th>store_zipcode</th>\n",
       "      <th>item_brand</th>\n",
       "      <th>item_name</th>\n",
       "      <th>item_price</th>\n",
       "      <th>item_upc12</th>\n",
       "      <th>item_upc14</th>\n",
       "    </tr>\n",
       "  </thead>\n",
       "  <tbody>\n",
       "    <tr>\n",
       "      <th>0</th>\n",
       "      <td>1</td>\n",
       "      <td>13.0</td>\n",
       "      <td>Tue, 01 Jan 2013 00:00:00 GMT</td>\n",
       "      <td>1</td>\n",
       "      <td>1</td>\n",
       "      <td>12125 Alamo Ranch Pkwy</td>\n",
       "      <td>San Antonio</td>\n",
       "      <td>TX</td>\n",
       "      <td>78253</td>\n",
       "      <td>Riceland</td>\n",
       "      <td>Riceland American Jazmine Rice</td>\n",
       "      <td>0.84</td>\n",
       "      <td>35200264013</td>\n",
       "      <td>35200264013</td>\n",
       "    </tr>\n",
       "    <tr>\n",
       "      <th>1</th>\n",
       "      <td>1</td>\n",
       "      <td>11.0</td>\n",
       "      <td>Wed, 02 Jan 2013 00:00:00 GMT</td>\n",
       "      <td>2</td>\n",
       "      <td>1</td>\n",
       "      <td>12125 Alamo Ranch Pkwy</td>\n",
       "      <td>San Antonio</td>\n",
       "      <td>TX</td>\n",
       "      <td>78253</td>\n",
       "      <td>Riceland</td>\n",
       "      <td>Riceland American Jazmine Rice</td>\n",
       "      <td>0.84</td>\n",
       "      <td>35200264013</td>\n",
       "      <td>35200264013</td>\n",
       "    </tr>\n",
       "  </tbody>\n",
       "</table>\n",
       "</div>"
      ],
      "text/plain": [
       "   item_id  sale_amount                      sale_date  sale_id  store_id  \\\n",
       "0        1         13.0  Tue, 01 Jan 2013 00:00:00 GMT        1         1   \n",
       "1        1         11.0  Wed, 02 Jan 2013 00:00:00 GMT        2         1   \n",
       "\n",
       "            store_address   store_city store_state  store_zipcode item_brand  \\\n",
       "0  12125 Alamo Ranch Pkwy  San Antonio          TX          78253   Riceland   \n",
       "1  12125 Alamo Ranch Pkwy  San Antonio          TX          78253   Riceland   \n",
       "\n",
       "                        item_name  item_price   item_upc12   item_upc14  \n",
       "0  Riceland American Jazmine Rice        0.84  35200264013  35200264013  \n",
       "1  Riceland American Jazmine Rice        0.84  35200264013  35200264013  "
      ]
     },
     "execution_count": 99,
     "metadata": {},
     "output_type": "execute_result"
    }
   ],
   "source": [
    "df.head(2)"
   ]
  },
  {
   "cell_type": "code",
   "execution_count": 100,
   "metadata": {},
   "outputs": [
    {
     "name": "stdout",
     "output_type": "stream",
     "text": [
      "<class 'pandas.core.frame.DataFrame'>\n",
      "Int64Index: 913000 entries, 0 to 912999\n",
      "Data columns (total 14 columns):\n",
      " #   Column         Non-Null Count   Dtype  \n",
      "---  ------         --------------   -----  \n",
      " 0   item_id        913000 non-null  int64  \n",
      " 1   sale_amount    913000 non-null  float64\n",
      " 2   sale_date      913000 non-null  object \n",
      " 3   sale_id        913000 non-null  int64  \n",
      " 4   store_id       913000 non-null  int64  \n",
      " 5   store_address  913000 non-null  object \n",
      " 6   store_city     913000 non-null  object \n",
      " 7   store_state    913000 non-null  object \n",
      " 8   store_zipcode  913000 non-null  int64  \n",
      " 9   item_brand     913000 non-null  object \n",
      " 10  item_name      913000 non-null  object \n",
      " 11  item_price     913000 non-null  float64\n",
      " 12  item_upc12     913000 non-null  int64  \n",
      " 13  item_upc14     913000 non-null  int64  \n",
      "dtypes: float64(2), int64(6), object(6)\n",
      "memory usage: 104.5+ MB\n"
     ]
    }
   ],
   "source": [
    "df.info()"
   ]
  },
  {
   "cell_type": "code",
   "execution_count": 101,
   "metadata": {},
   "outputs": [
    {
     "data": {
      "text/plain": [
       "Tue, 01 Jan 2013 00:00:00 GMT    500\n",
       "Wed, 11 May 2016 00:00:00 GMT    500\n",
       "Mon, 09 May 2016 00:00:00 GMT    500\n",
       "Sun, 08 May 2016 00:00:00 GMT    500\n",
       "Sat, 07 May 2016 00:00:00 GMT    500\n",
       "                                ... \n",
       "Fri, 29 Aug 2014 00:00:00 GMT    500\n",
       "Thu, 28 Aug 2014 00:00:00 GMT    500\n",
       "Wed, 27 Aug 2014 00:00:00 GMT    500\n",
       "Tue, 26 Aug 2014 00:00:00 GMT    500\n",
       "Sun, 31 Dec 2017 00:00:00 GMT    500\n",
       "Name: sale_date, Length: 1826, dtype: int64"
      ]
     },
     "execution_count": 101,
     "metadata": {},
     "output_type": "execute_result"
    }
   ],
   "source": [
    "df['sale_date'].value_counts()"
   ]
  },
  {
   "cell_type": "code",
   "execution_count": 102,
   "metadata": {},
   "outputs": [
    {
     "data": {
      "text/plain": [
       "1826"
      ]
     },
     "execution_count": 102,
     "metadata": {},
     "output_type": "execute_result"
    }
   ],
   "source": [
    "df.sale_date.nunique()"
   ]
  },
  {
   "cell_type": "code",
   "execution_count": 103,
   "metadata": {},
   "outputs": [
    {
     "data": {
      "text/plain": [
       "0        2013-01-01 00:00:00+00:00\n",
       "1        2013-01-02 00:00:00+00:00\n",
       "2        2013-01-03 00:00:00+00:00\n",
       "3        2013-01-04 00:00:00+00:00\n",
       "4        2013-01-05 00:00:00+00:00\n",
       "                    ...           \n",
       "912995   2017-12-27 00:00:00+00:00\n",
       "912996   2017-12-28 00:00:00+00:00\n",
       "912997   2017-12-29 00:00:00+00:00\n",
       "912998   2017-12-30 00:00:00+00:00\n",
       "912999   2017-12-31 00:00:00+00:00\n",
       "Name: sale_date, Length: 913000, dtype: datetime64[ns, UTC]"
      ]
     },
     "execution_count": 103,
     "metadata": {},
     "output_type": "execute_result"
    }
   ],
   "source": [
    "pd.to_datetime(df.sale_date)"
   ]
  },
  {
   "cell_type": "code",
   "execution_count": 104,
   "metadata": {},
   "outputs": [
    {
     "data": {
      "text/html": [
       "<div>\n",
       "<style scoped>\n",
       "    .dataframe tbody tr th:only-of-type {\n",
       "        vertical-align: middle;\n",
       "    }\n",
       "\n",
       "    .dataframe tbody tr th {\n",
       "        vertical-align: top;\n",
       "    }\n",
       "\n",
       "    .dataframe thead th {\n",
       "        text-align: right;\n",
       "    }\n",
       "</style>\n",
       "<table border=\"1\" class=\"dataframe\">\n",
       "  <thead>\n",
       "    <tr style=\"text-align: right;\">\n",
       "      <th></th>\n",
       "      <th>item_id</th>\n",
       "      <th>sale_amount</th>\n",
       "      <th>sale_date</th>\n",
       "      <th>sale_id</th>\n",
       "      <th>store_id</th>\n",
       "      <th>store_address</th>\n",
       "      <th>store_city</th>\n",
       "      <th>store_state</th>\n",
       "      <th>store_zipcode</th>\n",
       "      <th>item_brand</th>\n",
       "      <th>item_name</th>\n",
       "      <th>item_price</th>\n",
       "      <th>item_upc12</th>\n",
       "      <th>item_upc14</th>\n",
       "    </tr>\n",
       "  </thead>\n",
       "  <tbody>\n",
       "    <tr>\n",
       "      <th>0</th>\n",
       "      <td>1</td>\n",
       "      <td>13.0</td>\n",
       "      <td>Tue, 01 Jan 2013 00:00:00 GMT</td>\n",
       "      <td>1</td>\n",
       "      <td>1</td>\n",
       "      <td>12125 Alamo Ranch Pkwy</td>\n",
       "      <td>San Antonio</td>\n",
       "      <td>TX</td>\n",
       "      <td>78253</td>\n",
       "      <td>Riceland</td>\n",
       "      <td>Riceland American Jazmine Rice</td>\n",
       "      <td>0.84</td>\n",
       "      <td>35200264013</td>\n",
       "      <td>35200264013</td>\n",
       "    </tr>\n",
       "    <tr>\n",
       "      <th>1</th>\n",
       "      <td>1</td>\n",
       "      <td>11.0</td>\n",
       "      <td>Wed, 02 Jan 2013 00:00:00 GMT</td>\n",
       "      <td>2</td>\n",
       "      <td>1</td>\n",
       "      <td>12125 Alamo Ranch Pkwy</td>\n",
       "      <td>San Antonio</td>\n",
       "      <td>TX</td>\n",
       "      <td>78253</td>\n",
       "      <td>Riceland</td>\n",
       "      <td>Riceland American Jazmine Rice</td>\n",
       "      <td>0.84</td>\n",
       "      <td>35200264013</td>\n",
       "      <td>35200264013</td>\n",
       "    </tr>\n",
       "  </tbody>\n",
       "</table>\n",
       "</div>"
      ],
      "text/plain": [
       "   item_id  sale_amount                      sale_date  sale_id  store_id  \\\n",
       "0        1         13.0  Tue, 01 Jan 2013 00:00:00 GMT        1         1   \n",
       "1        1         11.0  Wed, 02 Jan 2013 00:00:00 GMT        2         1   \n",
       "\n",
       "            store_address   store_city store_state  store_zipcode item_brand  \\\n",
       "0  12125 Alamo Ranch Pkwy  San Antonio          TX          78253   Riceland   \n",
       "1  12125 Alamo Ranch Pkwy  San Antonio          TX          78253   Riceland   \n",
       "\n",
       "                        item_name  item_price   item_upc12   item_upc14  \n",
       "0  Riceland American Jazmine Rice        0.84  35200264013  35200264013  \n",
       "1  Riceland American Jazmine Rice        0.84  35200264013  35200264013  "
      ]
     },
     "execution_count": 104,
     "metadata": {},
     "output_type": "execute_result"
    }
   ],
   "source": [
    "df.head(2)"
   ]
  },
  {
   "cell_type": "code",
   "execution_count": 105,
   "metadata": {},
   "outputs": [],
   "source": [
    "# Strip unnecessary date section\n",
    "df['sale_date'] = df['sale_date'].apply(lambda date: date[:-13])"
   ]
  },
  {
   "cell_type": "code",
   "execution_count": null,
   "metadata": {},
   "outputs": [],
   "source": [
    "# re-cast back to date\n",
    "df['sale_date'] = pd.to_datetime(df['sale_date'])"
   ]
  },
  {
   "cell_type": "code",
   "execution_count": null,
   "metadata": {},
   "outputs": [],
   "source": [
    "df.head(2)"
   ]
  },
  {
   "cell_type": "markdown",
   "metadata": {},
   "source": [
    "#### Set datetime index"
   ]
  },
  {
   "cell_type": "code",
   "execution_count": null,
   "metadata": {},
   "outputs": [],
   "source": [
    "df = df.set_index('sale_date').sort_index()"
   ]
  },
  {
   "cell_type": "code",
   "execution_count": null,
   "metadata": {},
   "outputs": [],
   "source": [
    "df.head(2)"
   ]
  },
  {
   "cell_type": "code",
   "execution_count": null,
   "metadata": {},
   "outputs": [],
   "source": [
    "# Plot Target Variable Over Time\n",
    "by_date = df.groupby(['sale_date']).sale_amount.sum().reset_index()\n",
    "\n",
    "by_date.plot(x='sale_date', y='sale_amount')\n"
   ]
  },
  {
   "cell_type": "code",
   "execution_count": null,
   "metadata": {},
   "outputs": [],
   "source": [
    "n_days = df.index.max() - df.index.min() + pd.Timedelta('1d')\n",
    "n_days"
   ]
  },
  {
   "cell_type": "markdown",
   "metadata": {},
   "source": [
    "# Exploratory Data Analysis\n",
    "\n",
    "NOTE: °F = (K - 273.15) x 1.8000 + 32.00\n"
   ]
  },
  {
   "cell_type": "code",
   "execution_count": 107,
   "metadata": {},
   "outputs": [],
   "source": [
    "import statsmodels.api as sm\n"
   ]
  },
  {
   "cell_type": "code",
   "execution_count": null,
   "metadata": {},
   "outputs": [],
   "source": []
  },
  {
   "cell_type": "code",
   "execution_count": null,
   "metadata": {},
   "outputs": [],
   "source": []
  },
  {
   "cell_type": "code",
   "execution_count": null,
   "metadata": {},
   "outputs": [],
   "source": []
  },
  {
   "cell_type": "code",
   "execution_count": null,
   "metadata": {},
   "outputs": [],
   "source": []
  },
  {
   "cell_type": "code",
   "execution_count": null,
   "metadata": {},
   "outputs": [],
   "source": []
  }
 ],
 "metadata": {
  "interpreter": {
   "hash": "3067ead486e059ec00ffe7555bdb889e6e264a24dc711bf108106cc7baee8d5d"
  },
  "kernelspec": {
   "display_name": "Python 3 (ipykernel)",
   "language": "python",
   "name": "python3"
  },
  "language_info": {
   "codemirror_mode": {
    "name": "ipython",
    "version": 3
   },
   "file_extension": ".py",
   "mimetype": "text/x-python",
   "name": "python",
   "nbconvert_exporter": "python",
   "pygments_lexer": "ipython3",
   "version": "3.9.7"
  }
 },
 "nbformat": 4,
 "nbformat_minor": 2
}
